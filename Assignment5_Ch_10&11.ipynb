{
  "cells": [
    {
      "cell_type": "markdown",
      "metadata": {
        "id": "view-in-github",
        "colab_type": "text"
      },
      "source": [
        "<a href=\"https://colab.research.google.com/github/arloera01-blip/AshlynL_DTSC3020_Fall2025/blob/main/Assignment5_Ch_10%2611.ipynb\" target=\"_parent\"><img src=\"https://colab.research.google.com/assets/colab-badge.svg\" alt=\"Open In Colab\"/></a>"
      ]
    },
    {
      "cell_type": "markdown",
      "id": "9903d230",
      "metadata": {
        "id": "9903d230"
      },
      "source": [
        "# Assignment5: CRM Cleanup @ **DalaShop**\n",
        "*Files (Ch.10), Exceptions (Ch.10), Unit Tests (Ch.11), and Regular Expressions*  \n",
        ".....\n",
        "\n",
        "**Total: 3 points**  (Two questions, 1.5 pts each)  \n",
        "\n",
        "> This assignment is scenario-based and aligned with Python Crash Course Ch.10 (files & exceptions), Ch.11 (unit testing with `unittest`), and Regular Expressions."
      ]
    },
    {
      "cell_type": "markdown",
      "id": "d6487401",
      "metadata": {
        "id": "d6487401"
      },
      "source": [
        "## Scenario\n",
        "You are a data intern at an online retailer called **DalaShop**.  \n",
        "Sales exported a **raw contacts** file from the CRM. It contains customer names, emails, and phone numbers, but the formatting is messy and some emails are invalid.  \n",
        "Your tasks:\n",
        "\n",
        "1. **Clean** the contacts (Files + Exceptions + Regex).  \n",
        "2. **Write unit tests** to make sure your helper functions work correctly and keep working in the future."
      ]
    },
    {
      "cell_type": "markdown",
      "id": "0bd1712f",
      "metadata": {
        "id": "0bd1712f"
      },
      "source": [
        "## Data file (given by the company): `contacts_raw.txt`\n",
        "Use this exact sample data (you may extend it for your own testing, but do **not** change it when submitting).  \n",
        "Run the next cell once to create the file beside your notebook."
      ]
    },
    {
      "cell_type": "code",
      "execution_count": 4,
      "id": "c395a1a8",
      "metadata": {
        "id": "c395a1a8",
        "colab": {
          "base_uri": "https://localhost:8080/"
        },
        "outputId": "9676beca-55cf-47a1-ec73-5bbcf61b28ce"
      },
      "outputs": [
        {
          "output_type": "stream",
          "name": "stdout",
          "text": [
            "Wrote contacts_raw.txt with sample DalaShop data.\n"
          ]
        }
      ],
      "source": [
        "# Create the provided company dataset file\n",
        "with open(\"contacts_raw.txt\", \"w\", encoding=\"utf-8\") as f:\n",
        "    f.write('Alice Johnson <alice@example.com> , +1 (469) 555-1234\\nBob Roberts <bob[at]example.com> , 972-555-777\\nSara M. , sara@mail.co , 214 555 8888\\n\"Mehdi A.\" <mehdi.ay@example.org> , (469)555-9999\\nDelaram <delaram@example.io>, +1-972-777-2121\\nNima <NIMA@example.io> , 972.777.2121\\nduplicate <Alice@Example.com> , 469 555 1234')\n",
        "print(\"Wrote contacts_raw.txt with sample DalaShop data.\")"
      ]
    },
    {
      "cell_type": "markdown",
      "id": "1b535f73",
      "metadata": {
        "id": "1b535f73"
      },
      "source": [
        "## Q1 (1.5 pts) — CRM cleanup with Files, Exceptions, and Regex\n",
        "Implement `q1_crm_cleanup.py` to:\n",
        "\n",
        "1. **Read** `contacts_raw.txt` using `pathlib` and `with`. If the file is missing, **handle** it gracefully with `try/except FileNotFoundError` (print a friendly message; do not crash).\n",
        "2. **Validate emails** with a simple regex (`r\"[A-Za-z0-9._%+-]+@[A-Za-z0-9.-]+\\.[A-Za-z]{2,}\"`).  \n",
        "   - Trim whitespace with `strip()` before checking.  \n",
        "   - Use **full** matching (not partial).\n",
        "3. **Normalize phone numbers:** remove all non-digits (e.g., with `re.sub(r\"\\D\", \"\", raw)`).  \n",
        "   - If the result has **≥ 10 digits**, keep the **last 10 digits**.  \n",
        "   - Otherwise, return an **empty string** (`\"\"`).\n",
        "4. **Filter rows:** keep **only** rows with a valid email.\n",
        "5. **Deduplicate:** remove duplicates by **email** using **case-insensitive** comparison (e.g., `email.casefold()`). **Keep the first occurrence** and drop later duplicates.\n",
        "6. **Output CSV:** write to `contacts_clean.csv` with **columns exactly** `name,email,phone` (UTF-8).  \n",
        "7. **Preserve input order:** the order of rows in `contacts_clean.csv` must match the **first appearance** order from the input file. **Do not sort** the rows.\n",
        "\n",
        "**Grading rubric (1.5 pts):**\n",
        "- (0.4) File read/write via `pathlib` + graceful `FileNotFoundError` handling  \n",
        "- (0.5) Correct email regex validation + filtering  \n",
        "- (0.4) Phone normalization + case-insensitive de-dup (keep first)  \n",
        "- (0.2) Clean code, clear names, minimal docstrings/comments"
      ]
    },
    {
      "cell_type": "code",
      "source": [
        "# Write your answer here\n",
        "import re\n",
        "import csv\n",
        "\n",
        "from pathlib import Path\n",
        "\n",
        "# Regex for validating emails\n",
        "EMAIL_REGEX = r\"^[A-Za-z0-9._%+-]+@[A-Za-z0-9.-]+\\.[A-Za-z]{2,}$\"\n",
        "\n",
        "def validate_email(email: str) -> bool:\n",
        "    \"\"\"Return True if email matches regex, else False.\"\"\"\n",
        "    return re.fullmatch(EMAIL_REGEX, email.strip()) is not None\n",
        "\n",
        "def normalize_phone(phone: str) -> str:\n",
        "    \"\"\"Keep only the last 10 digits if possible, else return empty string.\"\"\"\n",
        "    digits = re.sub(r\"\\D\", \"\", phone)\n",
        "    return digits[-10:] if len(digits) >= 10 else \"\"\n",
        "\n",
        "def parse_line(line: str):\n",
        "    \"\"\"Extract name, email, phone from a raw line.\"\"\"\n",
        "    parts = [p.strip() for p in line.split(\",\")]\n",
        "    name, email, phone = \"\", \"\", \"\"\n",
        "\n",
        "    # Attempt to find email in angle brackets or standalone\n",
        "    for part in parts:\n",
        "        if \"<\" in part and \">\" in part:\n",
        "            name = part.split(\"<\")[0].strip('\" ').strip()\n",
        "            email = part.split(\"<\")[1].split(\">\")[0].strip()\n",
        "        elif validate_email(part):\n",
        "            email = part.strip()\n",
        "        elif re.search(r\"\\d\", part):\n",
        "            phone = part.strip()\n",
        "        elif not name:\n",
        "            name = part.strip('\" ').strip()\n",
        "\n",
        "    return name, email, phone\n",
        "\n",
        "def main():\n",
        "    input_file = Path(\"contacts_raw.txt\")\n",
        "    output_file = Path(\"contacts_clean.csv\")\n",
        "\n",
        "    try:\n",
        "        lines = input_file.read_text(encoding=\"utf-8\").splitlines()\n",
        "    except FileNotFoundError:\n",
        "        print(f\"Error: {input_file} not found.\")\n",
        "        return\n",
        "\n",
        "    seen_emails = set()\n",
        "    cleaned_rows = []\n",
        "\n",
        "    for line in lines:\n",
        "        if not line.strip():\n",
        "            continue\n",
        "        name, email, phone = parse_line(line)\n",
        "        if not validate_email(email):\n",
        "            continue\n",
        "        email_lower = email.casefold()\n",
        "        if email_lower in seen_emails:\n",
        "            continue\n",
        "        seen_emails.add(email_lower)\n",
        "        phone_norm = normalize_phone(phone)\n",
        "        cleaned_rows.append([name, email, phone_norm])\n",
        "\n",
        "    # Write CSV\n",
        "    with output_file.open(\"w\", newline=\"\", encoding=\"utf-8\") as f:\n",
        "        writer = csv.writer(f)\n",
        "        writer.writerow([\"name\", \"email\", \"phone\"])\n",
        "        writer.writerows(cleaned_rows)\n",
        "\n",
        "    print(f\"Cleaned contacts written to {output_file}\")\n",
        "\n",
        "if __name__ == \"__main__\":\n",
        "    main()\n",
        "\n",
        "    with open(\"contacts_clean.csv\", \"r\", encoding=\"utf-8\") as f:\n",
        "        print(f.read())"
      ],
      "metadata": {
        "id": "gO9xaHmKNlax",
        "colab": {
          "base_uri": "https://localhost:8080/"
        },
        "outputId": "4017b50a-028c-4a5c-c130-503aa2616cd5"
      },
      "id": "gO9xaHmKNlax",
      "execution_count": 7,
      "outputs": [
        {
          "output_type": "stream",
          "name": "stdout",
          "text": [
            "Cleaned contacts written to contacts_clean.csv\n",
            "name,email,phone\n",
            "Alice Johnson,alice@example.com,4695551234\n",
            "Sara M.,sara@mail.co,2145558888\n",
            "Mehdi A.,mehdi.ay@example.org,4695559999\n",
            "Delaram,delaram@example.io,9727772121\n",
            "Nima,NIMA@example.io,9727772121\n",
            "\n"
          ]
        }
      ]
    },
    {
      "cell_type": "markdown",
      "id": "258c5b04",
      "metadata": {
        "id": "258c5b04"
      },
      "source": [
        "## Q2 (1.5 pts) — Unit testing with `unittest`\n",
        "Create tests in `test_crm_cleanup.py` that cover at least:\n",
        "\n",
        "1. **Email validation**: valid/invalid variations.  \n",
        "2. **Phone normalization**: parentheses, dashes, spaces, country code; too-short cases.  \n",
        "3. **Parsing**: from a small multi-line string (not from a file), assert the exact structured rows (name/email/phone).  \n",
        "4. **De-duplication**: demonstrate that a case-variant duplicate email is dropped (first occurrence kept).\n",
        "\n",
        "\n"
      ]
    },
    {
      "cell_type": "code",
      "source": [
        "# Write your answer here\n",
        "import unittest\n",
        "\n",
        "class TestCRMFunctions(unittest.TestCase):\n",
        "\n",
        "    # Email validation tests\n",
        "    def test_valid_emails(self):\n",
        "        valid = [\"alice@example.com\", \"bob.smith_123@example.co.uk\", \"user+tag@example.io\"]\n",
        "        for email in valid:\n",
        "            with self.subTest(email=email):\n",
        "                self.assertTrue(validate_email(email))\n",
        "\n",
        "    def test_invalid_emails(self):\n",
        "        invalid = [\"bob[at]example.com\", \"no-at-symbol.com\", \"user@@example.com\", \"user@.com\"]\n",
        "        for email in invalid:\n",
        "            with self.subTest(email=email):\n",
        "                self.assertFalse(validate_email(email))\n",
        "\n",
        "    # Phone normalization tests\n",
        "    def test_phone_normalization(self):\n",
        "        cases = [\n",
        "            (\"+1 (469) 555-1234\", \"4695551234\"),\n",
        "            (\"972-777-2121\", \"9727772121\"),\n",
        "            (\"(214) 555 8888\", \"2145558888\"),\n",
        "            (\"972.777.2121\", \"9727772121\"),\n",
        "            (\"12345\", \"\"),  # too short\n",
        "            (\"+44 20 7946 0958\", \"2079460958\")\n",
        "        ]\n",
        "        for raw, expected in cases:\n",
        "            with self.subTest(raw=raw):\n",
        "                self.assertEqual(normalize_phone(raw), expected)\n",
        "\n",
        "    # Parsing tests\n",
        "    def test_parse_line(self):\n",
        "        lines = [\n",
        "            'Alice Johnson <alice@example.com> , +1 (469) 555-1234',\n",
        "            'duplicate <Alice@Example.com> , 469 555 1234',\n",
        "            'Sara M. , sara@mail.co , 214 555 8888',\n",
        "            '\"Mehdi A.\" <mehdi.ay@example.org> , (469)555-9999'\n",
        "        ]\n",
        "        expected = [\n",
        "            (\"Alice Johnson\", \"alice@example.com\", \"+1 (469) 555-1234\"),\n",
        "            (\"duplicate\", \"Alice@Example.com\", \"469 555 1234\"),\n",
        "            (\"Sara M.\", \"sara@mail.co\", \"214 555 8888\"),\n",
        "            (\"Mehdi A.\", \"mehdi.ay@example.org\", \"(469)555-9999\")\n",
        "        ]\n",
        "        for line, exp in zip(lines, expected):\n",
        "            with self.subTest(line=line):\n",
        "                self.assertEqual(parse_line(line), exp)\n",
        "\n",
        "    # Deduplication test\n",
        "    def test_deduplication(self):\n",
        "        raw_lines = [\n",
        "            'Alice Johnson <alice@example.com> , +1 (469) 555-1234',\n",
        "            'duplicate <Alice@Example.com> , 469 555 1234',\n",
        "            'Nima <NIMA@example.io> , 972.777.2121'\n",
        "        ]\n",
        "        seen = set()\n",
        "        cleaned = []\n",
        "        for line in raw_lines:\n",
        "            name, email, phone = parse_line(line)\n",
        "            email_lower = email.casefold()\n",
        "            if email_lower in seen:\n",
        "                continue\n",
        "            seen.add(email_lower)\n",
        "            phone_norm = normalize_phone(phone)\n",
        "            cleaned.append([name, email, phone_norm])\n",
        "        expected_cleaned = [\n",
        "            [\"Alice Johnson\", \"alice@example.com\", \"4695551234\"],\n",
        "            [\"Nima\", \"NIMA@example.io\", \"9727772121\"]\n",
        "        ]\n",
        "        self.assertEqual(cleaned, expected_cleaned)\n",
        "\n",
        "# Run tests in Colab\n",
        "unittest.main(argv=[''], exit=False, verbosity=2)"
      ],
      "metadata": {
        "id": "_M18cJw2NqZm",
        "colab": {
          "base_uri": "https://localhost:8080/"
        },
        "outputId": "2f289b1f-e03e-4a01-be7e-764ee1165802"
      },
      "id": "_M18cJw2NqZm",
      "execution_count": 11,
      "outputs": [
        {
          "output_type": "stream",
          "name": "stderr",
          "text": [
            "test_deduplication (__main__.TestCRMFunctions.test_deduplication) ... ok\n",
            "test_invalid_emails (__main__.TestCRMFunctions.test_invalid_emails) ... ok\n",
            "test_parse_line (__main__.TestCRMFunctions.test_parse_line) ... ok\n",
            "test_phone_normalization (__main__.TestCRMFunctions.test_phone_normalization) ... ok\n",
            "test_valid_emails (__main__.TestCRMFunctions.test_valid_emails) ... ok\n",
            "\n",
            "----------------------------------------------------------------------\n",
            "Ran 5 tests in 0.009s\n",
            "\n",
            "OK\n"
          ]
        },
        {
          "output_type": "execute_result",
          "data": {
            "text/plain": [
              "<unittest.main.TestProgram at 0x7f12b8273d40>"
            ]
          },
          "metadata": {},
          "execution_count": 11
        }
      ]
    },
    {
      "cell_type": "markdown",
      "id": "f38af38b",
      "metadata": {
        "id": "f38af38b"
      },
      "source": [
        "## Grading rubric (total 3 pts)\n",
        "- **Q1 (1.5 pts)**  \n",
        "  - (0.4) File I/O with `pathlib` + graceful `FileNotFoundError` handling  \n",
        "  - (0.5) Email validation (regex + strip + full match) and filtering  \n",
        "  - (0.4) Phone normalization and **case-insensitive** de-duplication (keep first)  \n",
        "  - (0.2) Code clarity (names, minimal docstrings/comments)\n",
        "- **Q2 (1.5 pts)**  \n",
        "  - (0.6) Meaningful coverage for email/phone functions (valid & invalid)  \n",
        "  - (0.6) Parsing & de-dup tests that assert exact expected rows  \n",
        "  - (0.3) Standard `unittest` structure and readable test names\n"
      ]
    }
  ],
  "metadata": {
    "colab": {
      "provenance": [],
      "include_colab_link": true
    },
    "language_info": {
      "name": "python"
    },
    "kernelspec": {
      "name": "python3",
      "display_name": "Python 3"
    }
  },
  "nbformat": 4,
  "nbformat_minor": 5
}