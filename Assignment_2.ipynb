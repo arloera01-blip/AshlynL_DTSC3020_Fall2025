{
  "nbformat": 4,
  "nbformat_minor": 0,
  "metadata": {
    "colab": {
      "provenance": [],
      "authorship_tag": "ABX9TyMyGbWOJwO/juTYcPa5iuSg",
      "include_colab_link": true
    },
    "kernelspec": {
      "name": "python3",
      "display_name": "Python 3"
    },
    "language_info": {
      "name": "python"
    }
  },
  "cells": [
    {
      "cell_type": "markdown",
      "metadata": {
        "id": "view-in-github",
        "colab_type": "text"
      },
      "source": [
        "<a href=\"https://colab.research.google.com/github/arloera01-blip/AshlynL_DTSC3020_Fall2025/blob/main/Assignment_2.ipynb\" target=\"_parent\"><img src=\"https://colab.research.google.com/assets/colab-badge.svg\" alt=\"Open In Colab\"/></a>"
      ]
    },
    {
      "cell_type": "code",
      "execution_count": 4,
      "metadata": {
        "id": "NNNu-ToHetEJ",
        "colab": {
          "base_uri": "https://localhost:8080/"
        },
        "outputId": "36229669-84ed-400d-fb90-7b2ece727a76"
      },
      "outputs": [
        {
          "output_type": "stream",
          "name": "stdout",
          "text": [
            "['apple', 'peach', 'orange']\n",
            "Apple\n",
            "Peach\n",
            "Orange\n"
          ]
        }
      ],
      "source": [
        "fruits= ['apple', 'peach', 'orange']\n",
        "print(fruits)\n",
        "for fruit in fruits[0:3]:\n",
        "  print(fruit.title())"
      ]
    },
    {
      "cell_type": "code",
      "source": [
        "names= ['ashlyn', 'jessica', 'sydney', 'reese']\n",
        "names[0]= 'tatum'\n",
        "print(names)"
      ],
      "metadata": {
        "colab": {
          "base_uri": "https://localhost:8080/"
        },
        "id": "nGq0G_WXkuQV",
        "outputId": "20617d83-a39f-4dc2-f9eb-6a012f138007"
      },
      "execution_count": 6,
      "outputs": [
        {
          "output_type": "stream",
          "name": "stdout",
          "text": [
            "['tatum', 'jessica', 'sydney', 'reese']\n"
          ]
        }
      ]
    },
    {
      "cell_type": "code",
      "source": [
        "vehicles= ['bus', 'bike', 'scooter', 'car', 'motorcycle']\n",
        "vehicles.append('truck')\n",
        "print(vehicles)"
      ],
      "metadata": {
        "colab": {
          "base_uri": "https://localhost:8080/"
        },
        "id": "ngeCqIu6lIgm",
        "outputId": "ea445292-ec43-4348-8a6f-e7c1d7069177"
      },
      "execution_count": 8,
      "outputs": [
        {
          "output_type": "stream",
          "name": "stdout",
          "text": [
            "['bus', 'bike', 'scooter', 'car', 'motorcycle', 'truck']\n"
          ]
        }
      ]
    },
    {
      "cell_type": "code",
      "source": [
        "foods= ['pasta', 'bread', 'chicken', 'beef', 'crackers', 'chips']\n",
        "foods.remove('bread')\n",
        "print(foods)"
      ],
      "metadata": {
        "colab": {
          "base_uri": "https://localhost:8080/"
        },
        "id": "PsIdXRc9lmdM",
        "outputId": "7dbcba6a-4e4c-4c4d-a8df-37b4f7fe1c45"
      },
      "execution_count": 12,
      "outputs": [
        {
          "output_type": "stream",
          "name": "stdout",
          "text": [
            "['pasta', 'chicken', 'beef', 'crackers', 'chips']\n"
          ]
        }
      ]
    },
    {
      "cell_type": "code",
      "source": [
        "cities= ['austin', 'dallas', 'fort worth', 'el paso', ]\n",
        "cities.sort()\n",
        "print(cities)"
      ],
      "metadata": {
        "colab": {
          "base_uri": "https://localhost:8080/"
        },
        "id": "w9oTstnzmFnl",
        "outputId": "4769a2f4-0b90-472d-fbd9-ee343f03abbb"
      },
      "execution_count": 15,
      "outputs": [
        {
          "output_type": "stream",
          "name": "stdout",
          "text": [
            "['austin', 'dallas', 'el paso', 'fort worth']\n"
          ]
        }
      ]
    },
    {
      "cell_type": "code",
      "source": [
        "animals= ['cat', 'dog', 'cow']\n",
        "for animal in animals:\n",
        "  print(animal.title())"
      ],
      "metadata": {
        "colab": {
          "base_uri": "https://localhost:8080/"
        },
        "id": "t1NK8tJJmdk2",
        "outputId": "2d724c5b-ad39-4dd9-a36a-d4383c6b1928"
      },
      "execution_count": 16,
      "outputs": [
        {
          "output_type": "stream",
          "name": "stdout",
          "text": [
            "Cat\n",
            "Dog\n",
            "Cow\n"
          ]
        }
      ]
    },
    {
      "cell_type": "code",
      "source": [
        "numbers= [1,2,3,4,5]\n",
        "for number in numbers:\n",
        "  doubled= number*2\n",
        "  print(doubled)"
      ],
      "metadata": {
        "colab": {
          "base_uri": "https://localhost:8080/"
        },
        "id": "t4OHIIchmuAH",
        "outputId": "49fd1550-c96c-4d1a-9462-e5427cf7bdd6"
      },
      "execution_count": 23,
      "outputs": [
        {
          "output_type": "stream",
          "name": "stdout",
          "text": [
            "2\n",
            "4\n",
            "6\n",
            "8\n",
            "10\n"
          ]
        }
      ]
    },
    {
      "cell_type": "code",
      "source": [
        "friends= ['reese', 'tatum', 'arshi', 'kenzie', 'ava', 'ainsley']\n",
        "print(friends[:3])\n",
        "print(friends[3:])"
      ],
      "metadata": {
        "colab": {
          "base_uri": "https://localhost:8080/"
        },
        "id": "salt3crVnPsZ",
        "outputId": "8e207a30-8611-475b-952b-a84916c7d38d"
      },
      "execution_count": 25,
      "outputs": [
        {
          "output_type": "stream",
          "name": "stdout",
          "text": [
            "['reese', 'tatum', 'arshi']\n",
            "['kenzie', 'ava', 'ainsley']\n"
          ]
        }
      ]
    },
    {
      "cell_type": "code",
      "source": [
        "numbers= list(range(1,11))\n",
        "print(numbers)"
      ],
      "metadata": {
        "id": "E2DTEcni2pEM",
        "outputId": "4ae198fd-17c6-42ec-d27f-e72c7179d31b",
        "colab": {
          "base_uri": "https://localhost:8080/"
        }
      },
      "execution_count": 29,
      "outputs": [
        {
          "output_type": "stream",
          "name": "stdout",
          "text": [
            "[1, 2, 3, 4, 5, 6, 7, 8, 9, 10]\n"
          ]
        }
      ]
    },
    {
      "cell_type": "code",
      "source": [
        "squares= [value**2 for value in range(1,6)]\n",
        "print(squares)"
      ],
      "metadata": {
        "id": "jnxYzrSd3VD4",
        "outputId": "49424df8-31ac-4c6f-a261-ac67ce8c0b87",
        "colab": {
          "base_uri": "https://localhost:8080/"
        }
      },
      "execution_count": 32,
      "outputs": [
        {
          "output_type": "stream",
          "name": "stdout",
          "text": [
            "[1, 4, 9, 16, 25]\n"
          ]
        }
      ]
    },
    {
      "cell_type": "markdown",
      "source": [],
      "metadata": {
        "id": "WJIoyLu8lmUk"
      }
    }
  ]
}