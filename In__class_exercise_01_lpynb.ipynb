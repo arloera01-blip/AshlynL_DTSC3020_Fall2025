{
  "nbformat": 4,
  "nbformat_minor": 0,
  "metadata": {
    "colab": {
      "provenance": [],
      "authorship_tag": "ABX9TyOgpOP3m2ROD22PA6pTTwEG",
      "include_colab_link": true
    },
    "kernelspec": {
      "name": "python3",
      "display_name": "Python 3"
    },
    "language_info": {
      "name": "python"
    }
  },
  "cells": [
    {
      "cell_type": "markdown",
      "metadata": {
        "id": "view-in-github",
        "colab_type": "text"
      },
      "source": [
        "<a href=\"https://colab.research.google.com/github/arloera01-blip/AshlynL_DTSC3020_Fall2025/blob/main/In__class_exercise_01_lpynb.ipynb\" target=\"_parent\"><img src=\"https://colab.research.google.com/assets/colab-badge.svg\" alt=\"Open In Colab\"/></a>"
      ]
    },
    {
      "cell_type": "code",
      "execution_count": 8,
      "metadata": {
        "colab": {
          "base_uri": "https://localhost:8080/"
        },
        "id": "VaB3XQ0cPuoP",
        "outputId": "4b2e0f84-8a58-43fb-df72-1564616a2f68"
      },
      "outputs": [
        {
          "output_type": "stream",
          "name": "stdout",
          "text": [
            "ashlyn\n"
          ]
        }
      ],
      "source": [
        "name= \"ashlyn\"\n",
        "print(name)"
      ]
    },
    {
      "cell_type": "code",
      "source": [
        "Name= \"Ashlyn\"\n",
        "print(\"welcome,\", Name)"
      ],
      "metadata": {
        "colab": {
          "base_uri": "https://localhost:8080/"
        },
        "id": "Djx8T8bvTTS4",
        "outputId": "cce0adb0-f079-4185-e67c-f3c789c7cd60"
      },
      "execution_count": 3,
      "outputs": [
        {
          "output_type": "stream",
          "name": "stdout",
          "text": [
            "welcome, Ashlyn\n"
          ]
        }
      ]
    },
    {
      "cell_type": "code",
      "source": [
        "print(\"welcome to python,\", Name)"
      ],
      "metadata": {
        "colab": {
          "base_uri": "https://localhost:8080/"
        },
        "id": "So34k0VYTjKG",
        "outputId": "9677089d-a431-46ab-915e-de02e23fc980"
      },
      "execution_count": 7,
      "outputs": [
        {
          "output_type": "stream",
          "name": "stdout",
          "text": [
            "welcome to python, Ashlyn\n"
          ]
        }
      ]
    }
  ]
}