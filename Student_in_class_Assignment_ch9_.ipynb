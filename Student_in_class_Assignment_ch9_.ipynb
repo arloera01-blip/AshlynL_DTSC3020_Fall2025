{
  "nbformat": 4,
  "nbformat_minor": 0,
  "metadata": {
    "colab": {
      "provenance": [],
      "include_colab_link": true
    },
    "kernelspec": {
      "name": "python3",
      "display_name": "Python 3"
    },
    "language_info": {
      "name": "python"
    }
  },
  "cells": [
    {
      "cell_type": "markdown",
      "metadata": {
        "id": "view-in-github",
        "colab_type": "text"
      },
      "source": [
        "<a href=\"https://colab.research.google.com/github/arloera01-blip/AshlynL_DTSC3020_Fall2025/blob/main/Student_in_class_Assignment_ch9_.ipynb\" target=\"_parent\"><img src=\"https://colab.research.google.com/assets/colab-badge.svg\" alt=\"Open In Colab\"/></a>"
      ]
    },
    {
      "cell_type": "markdown",
      "source": [
        "create a class called InventoryItem that represents a single product in stock — for example, an apple in a grocery store. The class keeps track of the product’s name, price, quantity, and minimum stock level (the level where we might need to reorder).\n",
        "\n",
        "......\n",
        "\n",
        "When you store the attributes, convert types as follows:\n",
        "\n",
        "• name → str(name)\n",
        "\n",
        "• price → float(price)\n",
        "\n",
        "• quantity → int(quantity) (default 0)\n",
        "\n",
        "• min_stock → int(min_stock) (default 0)\n",
        "\n",
        "Validation:\n",
        "\n",
        "• If any of price, quantity, or min_stock is negative, raise ValueError with a clear message.\n",
        "\n",
        "......\n",
        "\n",
        "Methods to implement\n",
        "\n",
        "restock(self, qty)\n",
        "• If qty is negative, raise ValueError.\n",
        "\n",
        "• Otherwise, increase quantity by qty.\n",
        "\n",
        "sell(self, qty)\n",
        "• If qty is not positive (≤ 0), raise ValueError.\n",
        "\n",
        "• If there is enough stock (self.quantity >= qty), decrease quantity by qty and return True.\n",
        "\n",
        "• Otherwise, return False (do not change quantity).\n",
        "\n",
        "value(self)\n",
        "• Return the total value of this item in stock:\n",
        "\n",
        "price * quantity (a float).\n",
        "\n",
        "repr(self)\n",
        "Provide a readable text description of the object when printed.\n",
        "\n",
        "return (f\"InventoryItem(name={self.name}, price={self.price}, \" f\"qty={self.quantity}, min_stock={self.min_stock})\")\n",
        "\n",
        "........\n",
        "\n",
        "• Return a developer-friendly string that shows all fields, for example: InventoryItem(name='Apple', price=0.5, quantity=3, min_stock=1)"
      ],
      "metadata": {
        "id": "vW98iSj6mCjt"
      }
    },
    {
      "cell_type": "code",
      "execution_count": 6,
      "metadata": {
        "id": "Hayuin-1lkgP",
        "colab": {
          "base_uri": "https://localhost:8080/"
        },
        "outputId": "2c8ab48e-d728-4f84-a6b0-867c589077d6"
      },
      "outputs": [
        {
          "output_type": "stream",
          "name": "stdout",
          "text": [
            "InventoryItem(name='Apple', price=0.5, quantity=10, min_stock=2)\n",
            "7 left in stock\n",
            "12 in stock\n",
            "6.0\n"
          ]
        }
      ],
      "source": [
        "# Write your answer here\n",
        "class InventoryItem:\n",
        "  def __init__(self, name, price, quantity=0, min_stock=0):\n",
        "    self.name = str(name)\n",
        "    self.price = float(price)\n",
        "    self.quantity = int(quantity)\n",
        "    self.min_stock = int(min_stock)\n",
        "\n",
        "    if self.price < 0 or self.quantity < 0 or self.min_stock < 0:\n",
        "      raise ValueError(\"price, quantity, or min_stock cannot be negative\")\n",
        "\n",
        "  def restock(self, qty):\n",
        "      if qty < 0:\n",
        "          raise ValueError(\"Cannot restock a negative quantity.\")\n",
        "      self.quantity += qty\n",
        "\n",
        "  def sell(self, qty):\n",
        "      if qty <= 0:\n",
        "          raise ValueError(\"Quantity to sell must be positive.\")\n",
        "      if self.quantity >= qty:\n",
        "          self.quantity -= qty\n",
        "          return True\n",
        "      return False\n",
        "\n",
        "  def value(self):\n",
        "      return self.price * self.quantity\n",
        "\n",
        "  def __repr__(self):\n",
        "      return (f\"InventoryItem(name='{self.name}', price={self.price}, \"\n",
        "              f\"quantity={self.quantity}, min_stock={self.min_stock})\")\n",
        "\n",
        "apple = InventoryItem(\"Apple\", 0.5, 10, 2)\n",
        "print(apple)\n",
        "\n",
        "apple.sell(3)\n",
        "print(f\"{apple.quantity} left in stock\")\n",
        "\n",
        "apple.restock(5)\n",
        "print(f\"{apple.quantity} in stock\")\n",
        "\n",
        "print(apple.value())"
      ]
    }
  ]
}