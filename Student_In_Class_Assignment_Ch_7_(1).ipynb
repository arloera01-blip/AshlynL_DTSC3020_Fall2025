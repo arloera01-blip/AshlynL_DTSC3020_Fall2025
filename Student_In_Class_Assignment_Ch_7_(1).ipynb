{
  "nbformat": 4,
  "nbformat_minor": 0,
  "metadata": {
    "colab": {
      "provenance": [],
      "include_colab_link": true
    },
    "kernelspec": {
      "name": "python3",
      "display_name": "Python 3"
    },
    "language_info": {
      "name": "python"
    }
  },
  "cells": [
    {
      "cell_type": "markdown",
      "metadata": {
        "id": "view-in-github",
        "colab_type": "text"
      },
      "source": [
        "<a href=\"https://colab.research.google.com/github/arloera01-blip/AshlynL_DTSC3020_Fall2025/blob/main/Student_In_Class_Assignment_Ch_7_(1).ipynb\" target=\"_parent\"><img src=\"https://colab.research.google.com/assets/colab-badge.svg\" alt=\"Open In Colab\"/></a>"
      ]
    },
    {
      "cell_type": "markdown",
      "source": [
        "#Write a Python program that simulates a self-checkout system.**\n",
        "Use this price list: prices: apple= 1 ,  bread= 2.5 ,  milk=5 ,  egg= 6\n",
        "\n",
        "Program requirements:\n",
        "\n",
        "The program should repeatedly ask the user to enter an item name or enter \"pay\".\n",
        "\n",
        "\n",
        "• Valid inputs are the names of the **items above ** or the word \"pay\".\n",
        "\n",
        "\n",
        "If the entered item exists in the price list:\n",
        "\n",
        "• Add its price to the running total.\n",
        "\n",
        "\n",
        "• Print the message: \"Added , running total: $\".\n",
        "\n",
        "\n",
        "If the entered item does not exist in the price list:\n",
        "\n",
        "• Print \"Item not found\".\n",
        "\n",
        "If the user types \"pay\":\n",
        "\n",
        "• Stop asking for input.\n",
        "\n",
        "Show the following three values:\n",
        "\n",
        "\n",
        "**Subtotal: the sum of all valid items entered.**\n",
        "\n",
        "**Tax: 8% of the subtotal. (0.08 * total)**\n",
        "\n",
        "**Final total: subtotal + tax.**\n",
        "\n",
        "\n",
        "Run your program with this purchase list. For example, for one person whose purchase is:apple, pizza, bread, pay *italicised text*"
      ],
      "metadata": {
        "id": "t1xs1X02Owtz"
      }
    },
    {
      "cell_type": "code",
      "execution_count": 3,
      "metadata": {
        "id": "nTH6mvq1OqHP",
        "colab": {
          "base_uri": "https://localhost:8080/"
        },
        "outputId": "7e134052-ff27-4ae7-d69a-e7283f562ec9"
      },
      "outputs": [
        {
          "output_type": "stream",
          "name": "stdout",
          "text": [
            "Welcome to self-checkout system\n",
            "Available items are: apple, bread, milk, egg\n",
            "type 'pay' to finish your purchase\n",
            "Enter an item: apple\n",
            "Added apple to the running total: $1.0\n",
            "Enter an item: bread\n",
            "Added bread to the running total: $3.5\n",
            "Enter an item: milk\n",
            "Added milk to the running total: $8.5\n",
            "Enter an item: egg\n",
            "Added egg to the running total: $14.5\n",
            "Enter an item: pay\n",
            "Subtotal: $14.5\n",
            "Tax: $1.16\n",
            "Final total: $15.66\n"
          ]
        }
      ],
      "source": [
        "# write your code here\n",
        "prices= {'apple': 1, 'bread': 2.5, 'milk': 5, 'egg': 6}\n",
        "\n",
        "subtotal= 0.0\n",
        "\n",
        "print(\"Welcome to self-checkout system\")\n",
        "print(\"Available items are: apple, bread, milk, egg\")\n",
        "print(\"type 'pay' to finish your purchase\")\n",
        "\n",
        "while True:\n",
        "  item= input(\"Enter an item: \").strip().lower()\n",
        "\n",
        "  if item == 'pay':\n",
        "    break\n",
        "  elif item in prices:\n",
        "    subtotal += prices[item]\n",
        "    print(f\"Added {item} to the running total: ${subtotal}\")\n",
        "  else:\n",
        "    print(\"Item not found\")\n",
        "\n",
        "tax= subtotal * 0.08\n",
        "total= subtotal + tax\n",
        "\n",
        "\n",
        "print(f\"Subtotal: ${subtotal}\")\n",
        "print(f\"Tax: ${tax}\")\n",
        "print(f\"Final total: ${total}\")\n"
      ]
    }
  ]
}