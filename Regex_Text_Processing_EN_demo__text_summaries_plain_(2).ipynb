{
  "cells": [
    {
      "cell_type": "markdown",
      "metadata": {
        "id": "view-in-github",
        "colab_type": "text"
      },
      "source": [
        "<a href=\"https://colab.research.google.com/github/arloera01-blip/AshlynL_DTSC3020_Fall2025/blob/main/Regex_Text_Processing_EN_demo__text_summaries_plain_(2).ipynb\" target=\"_parent\"><img src=\"https://colab.research.google.com/assets/colab-badge.svg\" alt=\"Open In Colab\"/></a>"
      ]
    },
    {
      "cell_type": "markdown",
      "source": [
        "# Regular Expressions\n",
        "\n",
        "Regular expressions (regex) are a mini language for finding text.\n",
        "When you need to find an ID, a username, or any pattern inside a long string, regex make it fast and precisely.\n",
        "\n",
        "---\n",
        "\n",
        "\n",
        "“Regex lets us search by patterns, not exact words.\n",
        "We’ll start with two tools:\n",
        "\n",
        "- re.match → checks only the start of the string.\n",
        "- re.search → finds the first match anywhere in the string.\n",
        "\n",
        "By the end, you’ll know which one to use, how to read the Match object, and how to extract the matched text.”\n",
        "\n",
        "---\n",
        "\n",
        "## We will cover\n",
        "re.search, re.match, re.findall, re.sub, plus core syntax: character classes, quantifiers, anchors, and groups.\n",
        "\n",
        "\n",
        "\n",
        "\n",
        "\n"
      ],
      "metadata": {
        "id": "1KxMO8LE9FvC"
      },
      "id": "1KxMO8LE9FvC"
    },
    {
      "cell_type": "markdown",
      "id": "a82e7923",
      "metadata": {
        "id": "a82e7923"
      },
      "source": [
        "## 1) `re.search` vs `re.match`\n",
        "`match` checks from the **start** of the string; `search` finds the **first occurrence anywhere**."
      ]
    },
    {
      "cell_type": "code",
      "source": [
        "import re  # import regex library\n",
        "text = 'ID=abc123; user=me'\n",
        "print(re.match(r'ID=\\w+', text))      # from the start\n",
        "print(re.search(r'user=\\w+', text))    # anywhere"
      ],
      "metadata": {
        "colab": {
          "base_uri": "https://localhost:8080/"
        },
        "id": "7eWWk33uGKh_",
        "outputId": "74adf2ea-0e00-422d-a9df-88f4201876f7"
      },
      "id": "7eWWk33uGKh_",
      "execution_count": null,
      "outputs": [
        {
          "output_type": "stream",
          "name": "stdout",
          "text": [
            "<re.Match object; span=(0, 9), match='ID=abc123'>\n",
            "<re.Match object; span=(11, 18), match='user=me'>\n"
          ]
        }
      ]
    },
    {
      "cell_type": "code",
      "source": [
        "import re  # import regex library\n",
        "samples = ['ID=xyz789; user=anna', 'user=bob; ID=000']\n",
        "for s in samples:  # loop over items\n",
        "    m1 = re.match(r'ID=\\w+', s)  # match at string start\n",
        "    m2 = re.search(r'user=\\w+', s)  # search first match\n",
        "    print('\\nText:', s)  # display output\n",
        "\n"
      ],
      "metadata": {
        "colab": {
          "base_uri": "https://localhost:8080/"
        },
        "id": "DCS6CLPMGLht",
        "outputId": "2541aa02-29d5-41b6-e968-6b8b4d44af84"
      },
      "id": "DCS6CLPMGLht",
      "execution_count": null,
      "outputs": [
        {
          "output_type": "stream",
          "name": "stdout",
          "text": [
            "\n",
            "Text: ID=xyz789; user=anna\n",
            "\n",
            "Text: user=bob; ID=000\n"
          ]
        }
      ]
    },
    {
      "cell_type": "markdown",
      "source": [
        "#2- Regex basics —\n",
        "\n",
        "Idea: A regex pattern says what to find, how many, and where in the string.\n",
        "\n",
        "---\n",
        "\n",
        "## What to find (character classes)\n",
        "- \\d → one digit (0–9)  \n",
        "  *Example:* \\d matches 5 in ID5.\n",
        "- \\w → one word character (letter, digit, or `_`)  \n",
        "  *Not a whole word—just one character.*  \n",
        "  *Example:* \\w matches A in A-1.\n",
        "\n",
        "Common combos\n",
        "- \\d+ → one or more digits (e.g., `123`)\n",
        "- \\w+ → one or more word characters (e.g., `abc_12`)\n",
        "\n",
        "---\n",
        "\n",
        "## How many (quantifiers)\n",
        "- + = one or more (≥1) → \\w+, \\d+\n",
        "- * = zero or more (≥0) → \\s*\n",
        "- ? = zero or one (optional) → colou?r\n",
        "- {m,n} = between *m* and *n* → \\d{3} (exactly 3 digits)\n",
        "\n",
        "*Quantifiers are greedy by default (they take as much as they can and still match).*\n",
        "\n",
        "---\n",
        "\n",
        "## Where in the string (anchors)\n",
        "- ^ = start of the string\n",
        "- $ = end of the string\n",
        "\n",
        "Examples\n",
        "- ^\\d+ → digits only if they’re at the start\n",
        "- ^\\d+$ → the entire string is digits (start to end)\n",
        "- re.fullmatch(r'\\d+', s) → code way to force the whole string to be digits\n",
        "\n",
        "---\n",
        "\n",
        "\n",
        "\n",
        "\n",
        "## Key takeaway\n",
        "- \\d / \\w say what kind of characters.\n",
        "- +, *, ?, {m,n} say how many.\n",
        "- ^ and $ say where (start/end)."
      ],
      "metadata": {
        "id": "NE9nqwClHr--"
      },
      "id": "NE9nqwClHr--"
    },
    {
      "cell_type": "code",
      "source": [
        "import re\n",
        "\n",
        "text = \"codes: a1, b22, c333; end\"\n",
        "\n",
        "# extract all letter+ 1–3 digit codes (bounded by word boundaries)\n",
        "code_pat = re.compile(r\"\\b[A-z]\\d{1,3}\\b\")\n",
        "print(\"found codes:\", code_pat.findall(text))\n",
        "\n",
        "# does the line start with 'codes:' (allow optional leading spaces)?\n",
        "print(\"starts with 'codes:'?\", bool(re.match(r\"^\\s*codes:\", text)))\n"
      ],
      "metadata": {
        "colab": {
          "base_uri": "https://localhost:8080/"
        },
        "id": "U9KIw5erjKTS",
        "outputId": "2c00dafc-e7fb-4cc3-caa1-a89bec95076f"
      },
      "id": "U9KIw5erjKTS",
      "execution_count": null,
      "outputs": [
        {
          "output_type": "stream",
          "name": "stdout",
          "text": [
            "found codes: ['a1', 'b22', 'c333']\n",
            "starts with 'codes:'? True\n"
          ]
        }
      ]
    },
    {
      "cell_type": "markdown",
      "id": "1cb7c723",
      "metadata": {
        "id": "1cb7c723"
      },
      "source": [
        "## 3) Groups (capturing data) and **named groups**\n",
        "\n",
        "\n",
        "What groups do: Parentheses (...) let you grab pieces of the text that matched your pattern.\n",
        "\n",
        "You can read them back with numbers (group(1)) or names (group('name')).\n",
        "\n",
        "⸻\n",
        "\n",
        "When you want to pull fields out of a string\n",
        "\n",
        "Do this:\n",
        " 1. Decide the pieces you need (e.g., user, id).\n",
        " 2. Wrap each piece in a group: (...) or (?P<name>...).\n",
        " 3. Run re.search (first match) or re.finditer (all matches).\n",
        " 4. Read the results with m.group(1) / m.group('name')."
      ]
    },
    {
      "cell_type": "code",
      "source": [
        "import re\n",
        "text = \"user: alice, id=007\"\n",
        "\n",
        "m = re.search(r\"user:\\s*(?P<user>\\w+),\\s*id=(?P<id>\\d+)\", text)\n",
        "print(m.group('user'), m.group('id'))\n",
        "# Or: print(m.groupdict()) -> {'user': 'alice', 'id': '007'}"
      ],
      "metadata": {
        "colab": {
          "base_uri": "https://localhost:8080/"
        },
        "id": "dfFbJX0mmTB4",
        "outputId": "5c657239-b2f8-4c11-dd91-a97681e8b60e"
      },
      "id": "dfFbJX0mmTB4",
      "execution_count": null,
      "outputs": [
        {
          "output_type": "stream",
          "name": "stdout",
          "text": [
            "alice 007\n"
          ]
        }
      ]
    },
    {
      "cell_type": "markdown",
      "source": [
        "When you want to parse log lines\n",
        "\n",
        "Do this: give each part a named group so your code reads like English.\n",
        "\n",
        "Example: \"2025-05-02 08:01:05 [WARN] Low disk\""
      ],
      "metadata": {
        "id": "U7LhoBMUnHCS"
      },
      "id": "U7LhoBMUnHCS"
    },
    {
      "cell_type": "code",
      "source": [
        "import re\n",
        "line = \"2025-05-02 08:01:05 [WARN] Low disk\"\n",
        "\n",
        "pat = re.compile(\n",
        "    r\"(?P<date>\\d{4}-\\d{2}-\\d{2})\\s+\"\n",
        "    r\"(?P<time>\\d{2}:\\d{2}:\\d{2})\\s+\"\n",
        "    r\"\\[(?P<level>[A-Z]+)\\]\\s+\"\n",
        "    r\"(?P<msg>.+)\"\n",
        ")\n",
        "\n",
        "m = pat.search(line)\n",
        "print(m.group('date'), m.group('time'), m.group('level'), m.group('msg'))\n",
        "# 2025-05-02 08:01:05 WARN Low disk"
      ],
      "metadata": {
        "colab": {
          "base_uri": "https://localhost:8080/"
        },
        "id": "EXD-nj0RmkHi",
        "outputId": "88d6812b-8bf4-41e7-8325-55604fa79ca8"
      },
      "id": "EXD-nj0RmkHi",
      "execution_count": null,
      "outputs": [
        {
          "output_type": "stream",
          "name": "stdout",
          "text": [
            "2025-05-02 08:01:05 WARN Low disk\n"
          ]
        }
      ]
    },
    {
      "cell_type": "markdown",
      "id": "02f3d845",
      "metadata": {
        "id": "02f3d845"
      },
      "source": [
        "## 4) `findall` and `finditer` examples (emails)\n",
        "`findall` returns a list of matches; `finditer` yields match objects (useful for spans)."
      ]
    },
    {
      "cell_type": "code",
      "source": [
        "import re\n",
        "\n",
        "text = \"Emails: a@x.com, b_y@z.org; invalid: c@@bad\"\n",
        "\n",
        "#  email pattern\n",
        "pat = re.compile(r\"\\b[\\w.-]+@[\\w.-]+\\.[A-Za-z]{2,}\\b\")\n",
        "\n",
        "# 1) findall → list of the matched strings\n",
        "print(\"findall:\", pat.findall(text))        # -> ['a@x.com', 'b_y@z.org']\n",
        "\n",
        "# 2) finditer → match objects (so you can get spans/positions)\n",
        "print(\"finditer with spans:\")\n",
        "for m in pat.finditer(text):\n",
        "    print(\" match:\", m.group(0), \" span:\", m.span())\n",
        "    # m.group(0) → the exact text that matched.\n",
        "    # m.span() → a pair (start, end) showing where it sits in the original string."
      ],
      "metadata": {
        "colab": {
          "base_uri": "https://localhost:8080/"
        },
        "id": "78HHFgPOqJEf",
        "outputId": "ac18c9aa-65bb-4700-c955-decf94f97852"
      },
      "id": "78HHFgPOqJEf",
      "execution_count": null,
      "outputs": [
        {
          "output_type": "stream",
          "name": "stdout",
          "text": [
            "findall: ['a@x.com', 'b_y@z.org']\n",
            "finditer with spans:\n",
            " match: a@x.com  span: (8, 15)\n",
            " match: b_y@z.org  span: (17, 26)\n"
          ]
        }
      ]
    },
    {
      "cell_type": "markdown",
      "source": [
        " • \\b — word boundary (don’t match inside longer tokens).\n",
        "\n",
        " • [\\w.-]+ — one or more word characters, dots, or dashes (the local part or domain).\n",
        "\n",
        " • @ — the at sign.\n",
        "\n",
        " • [\\w.-]+ — one or more word/dot/dash for the domain.\n",
        "\n",
        " • \\. — a literal dot before the TLD.\n",
        "\n",
        " • [A-Za-z]{2,} — top-level domain with 2+ letters (com, org, …).\n"
      ],
      "metadata": {
        "id": "J2ikdsr6qkwU"
      },
      "id": "J2ikdsr6qkwU"
    },
    {
      "cell_type": "markdown",
      "id": "fe05c775",
      "metadata": {
        "id": "fe05c775"
      },
      "source": [
        "## 5) `re.sub` for masking/replacing\n",
        "Use `sub` to replace sensitive data."
      ]
    },
    {
      "cell_type": "code",
      "execution_count": null,
      "id": "b4051743",
      "metadata": {
        "id": "b4051743",
        "colab": {
          "base_uri": "https://localhost:8080/"
        },
        "outputId": "800f89c5-890e-4198-f5db-f2583c7caf65"
      },
      "outputs": [
        {
          "output_type": "stream",
          "name": "stdout",
          "text": [
            "Order •••-•••-•••• placed by user ••; cc ••••-••••-••••-••••\n"
          ]
        }
      ],
      "source": [
        "# Real Output Demo: mask digits like credit‑card fragments\n",
        "import re  # import regex library\n",
        "text = 'Order 123-456-7890 placed by user 42; cc 4111-1111-1111-1111'\n",
        "masked = re.sub(r'\\d', '•', text)  # substitute text\n",
        "print(masked)  # display output\n"
      ]
    },
    {
      "cell_type": "markdown",
      "id": "d1754886",
      "metadata": {
        "id": "d1754886"
      },
      "source": [
        "## 6) Combine with File I/O\n",
        "Create a tiny log file, then extract structured records and save them to JSON."
      ]
    },
    {
      "cell_type": "markdown",
      "metadata": {
        "id": "2acpHcdUk47m"
      },
      "source": [
        "compile regex patterns, then search for the first match, then access capture groups (positional/named)."
      ],
      "id": "2acpHcdUk47m"
    },
    {
      "cell_type": "code",
      "execution_count": null,
      "id": "c8348f55",
      "metadata": {
        "id": "c8348f55"
      },
      "outputs": [],
      "source": [
        "import re, json  # import regex library\n",
        "from pathlib import Path  # import module(s)\n",
        "\n",
        "rgx = re.compile(r'(?P<date>\\d{4}-\\d{2}-\\d{2})\\s+(?P<time>\\d{2}:\\d{2}:\\d{2})\\s+\\[(?P<level>[A-Z]+)\\]\\s+(?P<msg>.+)')  # compile regex pattern\n",
        "path = Path('demo_logs.txt')\n",
        "path.write_text('''2025-05-02 08:00:00 [INFO] Boot\n",
        "2025-05-02 08:01:05 [WARN] Low disk\n",
        "this is junk\n",
        "''')\n",
        "\n",
        "records = []\n",
        "for line in path.read_text().splitlines():\n",
        "    m = rgx.search(line)\n",
        "    if m:\n",
        "        records.append(m.groupdict())\n",
        "\n",
        "with open('demo_logs.json', 'w') as f:\n",
        "    json.dump(records, f, indent=2)"
      ]
    },
    {
      "cell_type": "markdown",
      "metadata": {
        "id": "Czeovkgok47p"
      },
      "source": [
        "demonstrate regular-expression text processing."
      ],
      "id": "Czeovkgok47p"
    },
    {
      "cell_type": "code",
      "execution_count": null,
      "id": "1eecf25d",
      "metadata": {
        "id": "1eecf25d"
      },
      "outputs": [],
      "source": [
        "# Real Output Demo: show the JSON content\n",
        "from pathlib import Path  # import module(s)\n",
        "print(Path('demo_logs.json').read_text())  # display output\n"
      ]
    }
  ],
  "metadata": {
    "kernelspec": {
      "display_name": "Python 3",
      "language": "python",
      "name": "python3"
    },
    "language_info": {
      "name": "python",
      "version": "3.11"
    },
    "colab": {
      "provenance": [],
      "include_colab_link": true
    }
  },
  "nbformat": 4,
  "nbformat_minor": 5
}