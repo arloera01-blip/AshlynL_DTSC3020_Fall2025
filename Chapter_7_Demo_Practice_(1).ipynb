{
  "cells": [
    {
      "cell_type": "markdown",
      "metadata": {
        "id": "view-in-github",
        "colab_type": "text"
      },
      "source": [
        "<a href=\"https://colab.research.google.com/github/arloera01-blip/AshlynL_DTSC3020_Fall2025/blob/main/Chapter_7_Demo_Practice_(1).ipynb\" target=\"_parent\"><img src=\"https://colab.research.google.com/assets/colab-badge.svg\" alt=\"Open In Colab\"/></a>"
      ]
    },
    {
      "cell_type": "markdown",
      "source": [
        "#  While Loops and Input in Python"
      ],
      "metadata": {
        "id": "Ngn21GBUO_f6"
      },
      "id": "Ngn21GBUO_f6"
    },
    {
      "cell_type": "markdown",
      "metadata": {
        "id": "9tt2aGRePEqh"
      },
      "source": [
        "###  What is `input()`?\n",
        "- `input(\"prompt\")` lets the program ask the user for text.\n",
        "- It always returns a **string**.\n",
        "- If you need numbers, you must convert:\n",
        "\n",
        "\n"
      ],
      "id": "9tt2aGRePEqh"
    },
    {
      "cell_type": "code",
      "source": [
        "age = int(input(\"Enter your age: \"))\n",
        "print (\"your age is:\", age)"
      ],
      "metadata": {
        "id": "SCnGbcwnPfVc",
        "colab": {
          "base_uri": "https://localhost:8080/"
        },
        "outputId": "034859a1-2372-45a8-9f17-aa809a429731"
      },
      "id": "SCnGbcwnPfVc",
      "execution_count": 1,
      "outputs": [
        {
          "output_type": "stream",
          "name": "stdout",
          "text": [
            "Enter your age: 20\n",
            "your age is: 20\n"
          ]
        }
      ]
    },
    {
      "cell_type": "markdown",
      "source": [
        "###  What is a `while` loop?\n",
        "- A `while` loop repeats **as long as a condition is True**.\n",
        "- Example:"
      ],
      "metadata": {
        "id": "RSy9oR26QuIz"
      },
      "id": "RSy9oR26QuIz"
    },
    {
      "cell_type": "code",
      "source": [
        "count = 1\n",
        "while count <= 3:\n",
        "    print(\"Hello\")\n",
        "    count += 1"
      ],
      "metadata": {
        "id": "0A240dqtOx9P",
        "colab": {
          "base_uri": "https://localhost:8080/"
        },
        "outputId": "657a866a-f919-47b9-c3dd-6fee746ecef6"
      },
      "id": "0A240dqtOx9P",
      "execution_count": null,
      "outputs": [
        {
          "output_type": "stream",
          "name": "stdout",
          "text": [
            "Hello\n",
            "Hello\n",
            "Hello\n"
          ]
        }
      ]
    },
    {
      "cell_type": "markdown",
      "source": [
        "### Special Commands: `break` and `continue`\n",
        "- `break` → stops the loop immediately.\n",
        "- `continue` → skips to the next round.\n"
      ],
      "metadata": {
        "id": "nwRN5dMiO9RM"
      },
      "id": "nwRN5dMiO9RM"
    },
    {
      "cell_type": "code",
      "source": [
        "### Common Usage\n",
        "#Ask users to enter values until they type a stop word.\n"
      ],
      "metadata": {
        "id": "C_BJNoGVO63o"
      },
      "id": "C_BJNoGVO63o",
      "execution_count": null,
      "outputs": []
    },
    {
      "cell_type": "code",
      "source": [
        "#Ask users to enter values until they type a stop word.\n",
        "\n",
        "while True:\n",
        "    msg = input(\"Say something (type 'quit' to stop): \").lower()\n",
        "    if msg == \"quit\":\n",
        "        break\n",
        "    print(\"You said:\", msg)"
      ],
      "metadata": {
        "colab": {
          "base_uri": "https://localhost:8080/"
        },
        "id": "TW5Aclei-KY8",
        "outputId": "d09ee69b-c932-4d89-d975-cd2b5f9fbf44"
      },
      "id": "TW5Aclei-KY8",
      "execution_count": null,
      "outputs": [
        {
          "name": "stdout",
          "output_type": "stream",
          "text": [
            "Say something (type 'quit' to stop): hello\n",
            "You said: hello\n",
            "Say something (type 'quit' to stop): Quit\n"
          ]
        }
      ]
    },
    {
      "cell_type": "markdown",
      "id": "31101e49",
      "metadata": {
        "id": "31101e49"
      },
      "source": [
        "# Practice\n"
      ]
    },
    {
      "cell_type": "markdown",
      "id": "713bfd5f",
      "metadata": {
        "id": "713bfd5f"
      },
      "source": [
        "###  1) Survey Collector (count a specific answer)\n",
        "**Write a Python program that keeps asking “Favorite sport?” until the user types `stop`. Count how many times users answer `football` (case-insensitive) and print the count.**"
      ]
    },
    {
      "cell_type": "code",
      "execution_count": null,
      "id": "8f385741",
      "metadata": {
        "id": "8f385741",
        "colab": {
          "base_uri": "https://localhost:8080/"
        },
        "outputId": "a3076145-928e-4f4c-b335-d2a82e330dcc"
      },
      "outputs": [
        {
          "output_type": "stream",
          "name": "stdout",
          "text": [
            "Favorite sport? (or 'stop'): Football\n",
            "Favorite sport? (or 'stop'): football \n",
            "Favorite sport? (or 'stop'): tennis\n",
            "Favorite sport? (or 'stop'): stop\n",
            "Football fans: 2\n"
          ]
        }
      ],
      "source": [
        "count = 0\n",
        "while True:\n",
        "    sport = input(\"Favorite sport? (or 'stop'): \").strip().lower()\n",
        "    if sport == \"stop\":\n",
        "        break\n",
        "    if sport == \"football\":\n",
        "        count += 1\n",
        "print(\"Football fans:\", count)"
      ]
    },
    {
      "cell_type": "markdown",
      "id": "3b953e3b",
      "metadata": {
        "id": "3b953e3b"
      },
      "source": [
        "###  2) Limited Login (max 3 attempts)\n",
        "**Write a Python program that asks the user for a password. The user has at most 3 tries. If the password is correct, print “Welcome”. If all 3 tries are wrong, print “Account locked”.**"
      ]
    },
    {
      "cell_type": "code",
      "execution_count": null,
      "id": "d44f7d30",
      "metadata": {
        "id": "d44f7d30",
        "colab": {
          "base_uri": "https://localhost:8080/"
        },
        "outputId": "9fd9888a-a9f9-4561-d519-9513bdd9d5c9"
      },
      "outputs": [
        {
          "output_type": "stream",
          "name": "stdout",
          "text": [
            "enter thePassword: 123\n",
            "Wrong (1/3)\n",
            "enter thePassword: Python\n",
            "Wrong (2/3)\n",
            "enter thePassword: python123\n",
            "Welcome\n"
          ]
        }
      ],
      "source": [
        "SECRET = \"python123\"   # set the correct password\n",
        "\n",
        "\n",
        "attempts = 0\n",
        "while attempts < 3:\n",
        "    pw = input(\"enter thePassword: \")  # ask the user to enter the password\n",
        "    if pw == SECRET:       # check if the entered password is correct\n",
        "        print(\"Welcome\")\n",
        "        break        # stop the while loop\n",
        "    attempts += 1    # increase the number of attemps\n",
        "    print(f\"Wrong ({attempts}/3)\")\n",
        "\n",
        "else:\n",
        "    print(\"Account locked \")  # show message if all 3 attempts fail"
      ]
    },
    {
      "cell_type": "markdown",
      "id": "5a8ad0b9",
      "metadata": {
        "id": "5a8ad0b9"
      },
      "source": [
        "###  3) Cafeteria Checkout (running total + tax)\n",
        "**Write a Python program that asks the user to enter item prices one by one. If the user types `done`, stop and show the subtotal, 7% tax (0.07 * subtotal), and final total(subtotal + tax) . Ignore negative or invalid inputs.**"
      ]
    },
    {
      "cell_type": "code",
      "execution_count": null,
      "id": "5d32b925",
      "metadata": {
        "id": "5d32b925",
        "colab": {
          "base_uri": "https://localhost:8080/"
        },
        "outputId": "5ac7e749-3184-4770-82e4-bd4e95461089"
      },
      "outputs": [
        {
          "output_type": "stream",
          "name": "stdout",
          "text": [
            "Enter price (or 'done'): 20\n",
            "Enter price (or 'done'): 15\n",
            "Enter price (or 'done'): 30\n",
            "Enter price (or 'done'): done\n",
            "Subtotal: $65.00 | Tax: $4.55 | Total: $69.55\n"
          ]
        }
      ],
      "source": [
        "subtotal = 0.0    # start subtotal at 0\n",
        "\n",
        "while True:       # infinite loop until the user types \"done\"\n",
        "    price = input(\"Enter price (or 'done'): \").strip().lower()  # ask the user for a price.  # remove extra space. # convert to lowercase.\n",
        "    if price  == \"done\":\n",
        "        break      # if the user types \"done\", stop the loop.\n",
        "    try:\n",
        "        price = float(price)    #Try to convert the input into a floating-point number\n",
        "        if price < 0:\n",
        "            print(\"Negative price ignored.\")   # If the price is negative, ignore it\n",
        "\n",
        "            continue   # Skip the rest of this loop and ask again\n",
        "\n",
        "        subtotal += price\n",
        "\n",
        "    except ValueError:  # If the input is not a valid number\n",
        "\n",
        "        print(\" Invalid price, try again.\")\n",
        "        continue\n",
        "\n",
        "\n",
        "# After the loop ends (when user typed 'done')\n",
        "\n",
        "tax = round(subtotal * 0.07, 2)  # Calculate 7% tax, round to 2 decimals\n",
        "total = round(subtotal + tax, 2) # Final total = subtotal + tax\n",
        "print(f\"Subtotal: ${subtotal:.2f} | Tax: ${tax:.2f} | Total: ${total:.2f}\")  # Print results with two decimal places"
      ]
    },
    {
      "cell_type": "markdown",
      "id": "1484a922",
      "metadata": {
        "id": "1484a922"
      },
      "source": [
        "### 4) Average Study Hours\n",
        "**Write a Python program that asks the user for daily study hours. Stop when the user types `end`. At the end, print the average. Ignore invalid inputs.**"
      ]
    },
    {
      "cell_type": "code",
      "execution_count": null,
      "id": "8b2d96b3",
      "metadata": {
        "id": "8b2d96b3",
        "colab": {
          "base_uri": "https://localhost:8080/"
        },
        "outputId": "eeb470ca-a600-4abd-946b-ea7ac648e533"
      },
      "outputs": [
        {
          "output_type": "stream",
          "name": "stdout",
          "text": [
            "Enter study hours (or 'end'): 5\n",
            "Enter study hours (or 'end'): nine\n",
            " Not a number, try again.\n",
            "Enter study hours (or 'end'): 15\n",
            "Enter study hours (or 'end'): 13\n",
            "Enter study hours (or 'end'): End\n",
            "Average hours: 11.0\n"
          ]
        }
      ],
      "source": [
        "total = 0.0 # to keep track of the total study Hours\n",
        "days = 0    # to count how many days the user intered valid data.\n",
        "\n",
        "while True:\n",
        "    raw = input(\"Enter study hours (or 'end'): \").strip().lower()\n",
        "    if raw == \"end\":\n",
        "        break\n",
        "    try:\n",
        "        hours = float(raw)  # convert input to float\n",
        "        total += hours      # add to total and increase days by 1\n",
        "        days += 1\n",
        "    except ValueError:\n",
        "        print(\" Not a number, try again.\") # if conversion fails (like user typed letters) . catch  ValueError and print a warning.\n",
        "\n",
        "if days > 0:\n",
        "    print(\"Average hours:\", total / days)\n",
        "else:\n",
        "    print(\"No data entered.\")"
      ]
    },
    {
      "cell_type": "markdown",
      "id": "a2328b15",
      "metadata": {
        "id": "a2328b15"
      },
      "source": [
        "### 5) Quiz Retake Counter\n",
        "**Write a Python program that asks for quiz scores one by one (0–100). Stop when the user types `done`. Print how many scores are below 60.**"
      ]
    },
    {
      "cell_type": "code",
      "execution_count": null,
      "id": "780043b3",
      "metadata": {
        "id": "780043b3",
        "colab": {
          "base_uri": "https://localhost:8080/"
        },
        "outputId": "8d62e8aa-e931-48f7-8460-b54e33615c64"
      },
      "outputs": [
        {
          "output_type": "stream",
          "name": "stdout",
          "text": [
            "Enter quiz score (or 'done'): 20\n",
            "Enter quiz score (or 'done'): 100\n",
            "Enter quiz score (or 'done'): 120\n",
            "Score must be 0–100.\n",
            "Enter quiz score (or 'done'): nine\n",
            "Enter a number or 'done'.\n",
            "Enter quiz score (or 'done'): 9\n",
            "Enter quiz score (or 'done'): done\n",
            "Scores below 60: 2\n"
          ]
        }
      ],
      "source": [
        "retake = 0   # keeps track of scores below 60\n",
        "while True:\n",
        "    raw = input(\"Enter quiz score (or 'done'): \").strip().lower()\n",
        "    if raw == \"done\":\n",
        "        break\n",
        "    if raw.isdigit():    # check the input is number\n",
        "        score = int(raw)\n",
        "        if 0 <= score <= 100:\n",
        "            if score < 60:\n",
        "                retake += 1\n",
        "        else:\n",
        "            print(\"Score must be 0–100.\")  # if number is out of range\n",
        "    else:\n",
        "        print(\"Enter a number or 'done'.\") # if user enter letters\n",
        "print(\"Scores below 60:\", retake)"
      ]
    },
    {
      "cell_type": "markdown",
      "source": [
        "#Final Class Exercise\n",
        "Self-Checkout system"
      ],
      "metadata": {
        "id": "MrbYRi1-QsIP"
      },
      "id": "MrbYRi1-QsIP"
    },
    {
      "cell_type": "markdown",
      "source": [
        "\n",
        "##  Assignment Submission Instructions\n",
        "Assignment Instructions\n",
        " 1. Find and Download the Student_In_Class -Assignment_Ch 7   notebook file from Canvas\n",
        " 2. Write your answers\n",
        " 3. Save the completed notebook file.\n",
        " 4. Upload the notebook to your GitHub account.\n",
        " 5. Submit the GitHub link.\n",
        "\n",
        " This exercise is worth 1 point."
      ],
      "metadata": {
        "id": "JBW5zmsaPGvR"
      },
      "id": "JBW5zmsaPGvR"
    }
  ],
  "metadata": {
    "colab": {
      "provenance": [],
      "include_colab_link": true
    },
    "language_info": {
      "name": "python"
    },
    "kernelspec": {
      "name": "python3",
      "display_name": "Python 3"
    }
  },
  "nbformat": 4,
  "nbformat_minor": 5
}