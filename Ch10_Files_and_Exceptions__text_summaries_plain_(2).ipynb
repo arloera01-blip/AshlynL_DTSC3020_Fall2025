{
  "cells": [
    {
      "cell_type": "markdown",
      "metadata": {
        "id": "view-in-github",
        "colab_type": "text"
      },
      "source": [
        "<a href=\"https://colab.research.google.com/github/arloera01-blip/AshlynL_DTSC3020_Fall2025/blob/main/Ch10_Files_and_Exceptions__text_summaries_plain_(2).ipynb\" target=\"_parent\"><img src=\"https://colab.research.google.com/assets/colab-badge.svg\" alt=\"Open In Colab\"/></a>"
      ]
    },
    {
      "cell_type": "markdown",
      "id": "40ea3261",
      "metadata": {
        "id": "40ea3261"
      },
      "source": [
        "# Chapter 10 — Files and Exceptions\n",
        "\n",
        "## Why Files & Exceptions Matter\n",
        "\n",
        "Imagine a chat app, a grade book, or a data analysis project. If every time you close it, everything disappears — that’s a problem.\n",
        "\n",
        "> A program that can’t remember is like a person with no memory.\n",
        "\n",
        "\n",
        "**In this chapter we’ll learn:**\n",
        "\n",
        "- **Files** help programs **remember** between runs.(store and read data )\n",
        "- **Exceptions** handle problems gracefully\n",
        "- **JSON** save small structured data between runs (strings, lists, dicts)."
      ]
    },
    {
      "cell_type": "markdown",
      "id": "c257b71c",
      "metadata": {
        "id": "c257b71c"
      },
      "source": [
        "## 1) Reading from a file with `read()`\n",
        "Use `with open(...) as f:` to read the whole file. `with` auto-closes the file. When printing, `.rstrip()` avoids extra blank lines."
      ]
    },
    {
      "cell_type": "markdown",
      "metadata": {
        "id": "HGYota1PhlL9"
      },
      "source": [
        "open a file and read its full contents, then use try/except for error handling, then trims whitespace/newlines, then print results."
      ],
      "id": "HGYota1PhlL9"
    },
    {
      "cell_type": "code",
      "execution_count": null,
      "id": "df6b01b1",
      "metadata": {
        "id": "df6b01b1",
        "colab": {
          "base_uri": "https://localhost:8080/"
        },
        "outputId": "ba28fb63-dfbc-4f2e-e1fa-e6def756c58e"
      },
      "outputs": [
        {
          "output_type": "stream",
          "name": "stdout",
          "text": [
            "File 'pi_digits.txt' not found (pattern example).\n"
          ]
        }
      ],
      "source": [
        "# pattern example\n",
        "filename = 'pi_digits.txt'\n",
        "try:  # start try block\n",
        "    with open(filename) as f:  # open file safely for reading\n",
        "        contents = f.read()  # read entire file content\n",
        "    print(contents.rstrip())  # remove trailing/outer whitespace\n",
        "except FileNotFoundError:  # handle a specific exception\n",
        "    print(f\"File {filename!r} not found (pattern example).\")\n"
      ]
    },
    {
      "cell_type": "markdown",
      "metadata": {
        "id": "K_3_1NeJhlMF"
      },
      "source": [
        "creates/overwrite a file and write text, then trims whitespace/newlines, then print results."
      ],
      "id": "K_3_1NeJhlMF"
    },
    {
      "cell_type": "code",
      "execution_count": null,
      "id": "6d1c3aad",
      "metadata": {
        "colab": {
          "base_uri": "https://localhost:8080/"
        },
        "id": "6d1c3aad",
        "outputId": "109f242a-e2b8-4869-a717-44b247d61ecf"
      },
      "outputs": [
        {
          "output_type": "stream",
          "name": "stdout",
          "text": [
            "File contents (rstrip shown):\n",
            "3.14159\n",
            "26535,89793,\n"
          ]
        }
      ],
      "source": [
        "filename = 'demo_pi_digits.txt' # create a tiny file\n",
        "\n",
        "with open(filename, 'w') as f:  # open file in write mode (overwrite/create)\n",
        "    f.write('3.14159\\n')  # write text to file\n",
        "    f.write('26535,')\n",
        "    f.write('89793,')\n",
        "\n",
        "with open(filename) as f:  # open file\n",
        "    contents = f.read()  # read entire file content\n",
        "\n",
        "print('File contents (rstrip shown):')  # display output\n",
        "print(contents.rstrip())  # remove whitespace\n"
      ]
    },
    {
      "cell_type": "markdown",
      "id": "7c4461e3",
      "metadata": {
        "id": "7c4461e3"
      },
      "source": [
        "### Paths & pathlib\n",
        "\n",
        "### why paths matter & what pathlib does\n",
        "\n",
        "When we read a file in Python, the most common reason it fails is a wrong file path.  \n",
        "Think of a path as the file’s address on the computer.\n",
        "\n",
        "Two kinds of paths\n",
        "- Relative path: an address starting from where this notebook is running (the *current working directory*).  \n",
        "  Example: data/pi_digits.txt\n",
        " “Go to where I am now, then into data/ and open pi_digits.txt.”\n",
        "\n",
        "- Absolute path: the full address from the root of the system.  \n",
        "  Example (in Colab): /content/data/pi_digits.txt\n",
        "  “Start from the root of the computer and follow the entire address.”\n",
        "\n",
        "Why paths break easily without `pathlib`\n",
        "- Windows uses backslashes \\ while macOS/Linux use slashes /.\n",
        "- Manually joining strings (e.g., `\"data/\" + filename`) is error-prone.\n",
        "\n",
        "What `pathlib` gives us\n",
        "- Path objects that work on all operating systems (no more worrying about slashes).\n",
        "- The / operator to join parts like LEGO: Path('data') / 'pi_digits.txt'\n",
        "- Useful helpers:  \n",
        "  - .resolve() → show the absolute path (great for debugging)  \n",
        "  - .mkdir(exist_ok=True) → safely create folders  \n",
        "  - .read_text(), .write_text(), .open() → easy file I/O\n",
        "\n",
        "\n",
        "\n",
        "Tip if you get “No such file or directory”\n",
        "- Make sure the folder exists (`Path('data').mkdir(exist_ok=True)`) and that the file is really at that address. Printing .resolve() helps you verify the path."
      ]
    },
    {
      "cell_type": "markdown",
      "source": [
        "\n",
        "1) Show the current working directory (so you know where “relative” starts).  \n",
        "2) Build a relative path and display its absolute form.  \n",
        "3) Create demo_data/ (if missing) and prepare demo_data/pi_digits.txt for future read/write.\n",
        "\n"
      ],
      "metadata": {
        "id": "acS-HrCq_8LX"
      },
      "id": "acS-HrCq_8LX"
    },
    {
      "cell_type": "code",
      "execution_count": null,
      "id": "a32a7f76",
      "metadata": {
        "colab": {
          "base_uri": "https://localhost:8080/"
        },
        "id": "a32a7f76",
        "outputId": "30ce8b67-ed46-4771-81ee-e9edd7ea5165"
      },
      "outputs": [
        {
          "output_type": "stream",
          "name": "stdout",
          "text": [
            "/content/demo_data/pi_digits.txt\n",
            "demo_data/pi_digits.txt\n",
            "Reading back:\n",
            "3.14159\n",
            "26535\n",
            "\n"
          ]
        }
      ],
      "source": [
        "# create the folder and point to a file inside it\n",
        "\n",
        "from pathlib import Path  # import module to build file path\n",
        "\n",
        "path = Path('demo_data') # creat a path object pointing to a folder\n",
        "\n",
        "path.mkdir(exist_ok=True)  # prevents \"folder already exists\" errors\n",
        "\n",
        "pi_path = path / 'pi_digits.txt' # / joins path parts\n",
        "\n",
        "# refers to the file data/pi_digits.txt\n",
        "pi_path.write_text('3.14159\\n26535\\n') # Open the file in text mode, write to it, and close the file.\n",
        "                                      # in Google Colab the working folder is usually content\n",
        "print(pi_path.resolve()) # shows the full absolute path.\n",
        "print(pi_path) # relative path\n",
        "print('Reading back:')\n",
        "print(pi_path.read_text()) # reads the whole file as text\n"
      ]
    },
    {
      "cell_type": "markdown",
      "id": "a306abfe",
      "metadata": {
        "id": "a306abfe"
      },
      "source": [
        "## Reading line by line and using `readlines()`\n"
      ]
    },
    {
      "cell_type": "markdown",
      "metadata": {
        "id": "brCRClUWhlMb"
      },
      "source": [
        "read a file line by line, then use try/except for error handling, then trims whitespace/newlines"
      ],
      "id": "brCRClUWhlMb"
    },
    {
      "cell_type": "code",
      "execution_count": null,
      "id": "78f4ec79",
      "metadata": {
        "id": "78f4ec79",
        "colab": {
          "base_uri": "https://localhost:8080/"
        },
        "outputId": "f2192d2d-e8ec-48f7-cd4c-71466a1295f3"
      },
      "outputs": [
        {
          "output_type": "stream",
          "name": "stdout",
          "text": [
            "File 'pi_digits.txt' not found (pattern example).\n"
          ]
        }
      ],
      "source": [
        "filename = 'pi_digits.txt'  # pattern-only example\n",
        "\n",
        "try:  # start try block\n",
        "    with open(filename) as f:  # open file safely for reading\n",
        "        print('--- Line by line ---')  # display output\n",
        "        for line in f:  # loop over items\n",
        "            print(line.rstrip())  # remove trailing/outer whitespace\n",
        "\n",
        "    with open(filename) as f:  # open file safely for reading\n",
        "        lines = f.readlines()  # read all lines into a list\n",
        "    print('\\n--- Number of lines ---')  # display output\n",
        "    print(len(lines))  # display output\n",
        "except FileNotFoundError:  # handle a specific exception\n",
        "    print(f\"File {filename!r} not found (pattern example).\")  # display output\n"
      ]
    },
    {
      "cell_type": "markdown",
      "metadata": {
        "id": "at4lSs7JhlMg"
      },
      "source": [
        "creates/overwrite a file and write text, then read a file line by line, then trims whitespace/newlines, then print results."
      ],
      "id": "at4lSs7JhlMg"
    },
    {
      "cell_type": "code",
      "execution_count": null,
      "id": "a48e5a43",
      "metadata": {
        "id": "a48e5a43",
        "colab": {
          "base_uri": "https://localhost:8080/"
        },
        "outputId": "befbc1b3-09dd-4698-a334-13f04c79c0f5"
      },
      "outputs": [
        {
          "output_type": "stream",
          "name": "stdout",
          "text": [
            "--- Line by line ---\n",
            "alpha\n",
            "beta\n",
            "gamma\n",
            "\n",
            "--- Using readlines() ---\n",
            "Line count: 3\n"
          ]
        }
      ],
      "source": [
        "# Real Output Demo: make a file with 3 lines, then read line-by-line and with readlines()\n",
        "name = 'demo_lines.txt'\n",
        "with open(name, 'w') as f:  # open file in write mode (overwrite/create)\n",
        "    f.write('alpha\\n')  # write text to file\n",
        "    f.write('beta\\n')\n",
        "    f.write('gamma\\n')\n",
        "\n",
        "print('--- Line by line ---')\n",
        "with open(name) as f:  # open file safely for reading\n",
        "    for line in f:  # loop over items\n",
        "        print(line.rstrip())  # remove trailing/outer whitespace\n",
        "\n",
        "print('\\n--- Using readlines() ---')\n",
        "with open(name) as f:  # open file safely for reading\n",
        "    lines = f.readlines()  # read all lines into a list\n",
        "print('Line count:', len(lines))  # display output\n"
      ]
    },
    {
      "cell_type": "markdown",
      "id": "68be0f1f",
      "metadata": {
        "id": "68be0f1f"
      },
      "source": [
        "## Working with the contents you read\n",
        "Strip whitespace and join lines as needed. Classic example: building a `pi_string` to inspect digits or length."
      ]
    },
    {
      "cell_type": "markdown",
      "metadata": {
        "id": "IVi2N-nBhlMl"
      },
      "source": [
        "read a file line by line, then use try/except for error handling, then trims whitespace/newlines, then print results."
      ],
      "id": "IVi2N-nBhlMl"
    },
    {
      "cell_type": "code",
      "execution_count": null,
      "id": "84d2d058",
      "metadata": {
        "id": "84d2d058",
        "colab": {
          "base_uri": "https://localhost:8080/"
        },
        "outputId": "3d7d2b91-27a7-4dce-e59b-2aee88759d60"
      },
      "outputs": [
        {
          "output_type": "stream",
          "name": "stdout",
          "text": [
            "File 'pi_digits.txt' not found (pattern example).\n"
          ]
        }
      ],
      "source": [
        "filename = 'pi_digits.txt'  # pattern-only example\n",
        "try:\n",
        "    with open(filename) as f:\n",
        "        lines = f.readlines()  # read all lines into a list\n",
        "    pi_string = ''\n",
        "    for line in lines:  # loop over items\n",
        "        pi_string += line.strip()  # remove whitespace\n",
        "\n",
        "    print('First 30 chars:', pi_string[:30], '...')  # display output\n",
        "    print('Length:', len(pi_string))  # display output\n",
        "except FileNotFoundError:  # handle a specific exception\n",
        "    print(f\"File {filename!r} not found (pattern example).\")  # display output\n"
      ]
    },
    {
      "cell_type": "markdown",
      "metadata": {
        "id": "Um-NbNcYhlMn"
      },
      "source": [
        "creates/overwrite a file and write text, then read a file line by line, then trims whitespace/newlines, then print results."
      ],
      "id": "Um-NbNcYhlMn"
    },
    {
      "cell_type": "code",
      "execution_count": null,
      "id": "4f9cee15",
      "metadata": {
        "id": "4f9cee15",
        "colab": {
          "base_uri": "https://localhost:8080/"
        },
        "outputId": "5a89403a-4023-49c9-e5f1-848c7add2987"
      },
      "outputs": [
        {
          "output_type": "stream",
          "name": "stdout",
          "text": [
            "pi_string: 3.141592653589793\n",
            "Length: 17\n"
          ]
        }
      ],
      "source": [
        "# construct pi_string from our own demo file\n",
        "name = 'demo_pi_for_join.txt'\n",
        "with open(name, 'w') as f:  # open file in write mode (overwrite/create)\n",
        "    f.write('3.14159\\n')  # write text to file\n",
        "    f.write('26535\\n')\n",
        "    f.write('89793\\n')\n",
        "\n",
        "with open(name) as f:  # open file safely for reading\n",
        "    lines = f.readlines()  # read all lines into a list\n",
        "pi_string = ''.join(line.strip() for line in lines)\n",
        "print('pi_string:', pi_string)  # display output\n",
        "print('Length:', len(pi_string))  # display output\n"
      ]
    },
    {
      "cell_type": "markdown",
      "id": "133bb88a",
      "metadata": {
        "id": "133bb88a"
      },
      "source": [
        "## 2) Writing to a file with `'w'` (overwrite)\n",
        "`'w'` overwrites the whole file if it exists. Use `\\n` for new lines."
      ]
    },
    {
      "cell_type": "markdown",
      "metadata": {
        "id": "s5UjLCfvhlMq"
      },
      "source": [
        "creates/overwrite a file and write text, then print results."
      ],
      "id": "s5UjLCfvhlMq"
    },
    {
      "cell_type": "code",
      "execution_count": null,
      "id": "7d38ddd8",
      "metadata": {
        "id": "7d38ddd8",
        "colab": {
          "base_uri": "https://localhost:8080/"
        },
        "outputId": "3eb92a37-e0b3-4bfd-ae2b-3a44190f4f7b"
      },
      "outputs": [
        {
          "output_type": "stream",
          "name": "stdout",
          "text": [
            "Wrote sample lines to 'programming.txt'.\n"
          ]
        }
      ],
      "source": [
        "filename = 'programming.txt'\n",
        "with open(filename, 'w') as f:  # open file in write mode (overwrite/create)\n",
        "    f.write('I love programming.\\n')  # write text to file\n",
        "    f.write('I love creating new games.\\n')  # write text to file\n",
        "print(f'Wrote sample lines to {filename!r}.')  # display output\n"
      ]
    },
    {
      "cell_type": "code",
      "execution_count": null,
      "id": "70c2b45d",
      "metadata": {
        "id": "70c2b45d",
        "colab": {
          "base_uri": "https://localhost:8080/"
        },
        "outputId": "005a6b79-e8d6-4e6f-9009-fe588d590abd"
      },
      "outputs": [
        {
          "output_type": "stream",
          "name": "stdout",
          "text": [
            "programming.txt contents:\n",
            "I love programming.\n",
            "I love creating new games.\n",
            "\n"
          ]
        }
      ],
      "source": [
        "filename = 'programming.txt'\n",
        "with open(filename) as f:  # open file safely for reading\n",
        "    print('programming.txt contents:')  # display output\n",
        "    print(f.read())  # read entire file content\n"
      ]
    },
    {
      "cell_type": "markdown",
      "id": "e5ec38bd",
      "metadata": {
        "id": "e5ec38bd"
      },
      "source": [
        "## Appending with `'a'`\n",
        "Use `'a'` to add to the **end** of the file without destroying existing content."
      ]
    },
    {
      "cell_type": "markdown",
      "metadata": {
        "id": "1P_TSLtyhlMx"
      },
      "source": [
        "write to an already-open file, then print results."
      ],
      "id": "1P_TSLtyhlMx"
    },
    {
      "cell_type": "code",
      "execution_count": null,
      "id": "08d981d1",
      "metadata": {
        "id": "08d981d1",
        "colab": {
          "base_uri": "https://localhost:8080/"
        },
        "outputId": "ee92fc01-5861-43c4-e22b-26c0b676b4dd"
      },
      "outputs": [
        {
          "output_type": "stream",
          "name": "stdout",
          "text": [
            "Appended new lines to 'programming.txt'.\n",
            "Total lines: 4\n",
            "Last 2 lines:\n",
            "I also love finding meaning in large datasets.\n",
            "I love creating apps that can run in a browser.\n"
          ]
        }
      ],
      "source": [
        "filename = 'programming.txt'\n",
        "with open(filename, 'a') as f:  # open file in append mode\n",
        "    f.write('I also love finding meaning in large datasets.\\n')  # write text to file\n",
        "    f.write('I love creating apps that can run in a browser.\\n')  # write text to file\n",
        "print(f'Appended new lines to {filename!r}.')  # display output\n",
        "\n",
        "# show the last few lines after appending\n",
        "filename = 'programming.txt'\n",
        "with open(filename) as f:  # open file safely for reading\n",
        "    lines = f.readlines()  # read all lines into a list\n",
        "print('Total lines:', len(lines))  # display output\n",
        "print('Last 2 lines:')  # display output\n",
        "for line in lines[-2:]:  # loop over items\n",
        "    print(line.rstrip())  # remove trailing/outer whitespace\n"
      ]
    },
    {
      "cell_type": "markdown",
      "id": "d6527360",
      "metadata": {
        "id": "d6527360"
      },
      "source": [
        "## 3) Exceptions keep programs from crashing\n",
        "Handle errors with `try/except`. Use `else` for work that should run only when no exception occurred."
      ]
    },
    {
      "cell_type": "markdown",
      "metadata": {
        "id": "5_lfRDELhlM2"
      },
      "source": [
        "use try/except for error handling, then print results."
      ],
      "id": "5_lfRDELhlM2"
    },
    {
      "cell_type": "code",
      "execution_count": null,
      "id": "1df64aa6",
      "metadata": {
        "id": "1df64aa6",
        "colab": {
          "base_uri": "https://localhost:8080/"
        },
        "outputId": "93731490-ffa8-4c9c-c6e8-7a87a58c95a7"
      },
      "outputs": [
        {
          "output_type": "stream",
          "name": "stdout",
          "text": [
            "Result: 5.0\n"
          ]
        }
      ],
      "source": [
        "# a safe division triggers the else branch\n",
        "try:  # start try block (may raise error)\n",
        "    result = 10 /2\n",
        "except ZeroDivisionError:  # handle a specific exception\n",
        "    print(\"You can’t divide by zero!\")  # display output\n",
        "else:  # fallback branch\n",
        "    print('Result:', result)  # display output\n"
      ]
    },
    {
      "cell_type": "markdown",
      "id": "ddd00553",
      "metadata": {
        "id": "ddd00553"
      },
      "source": [
        "### Handling `FileNotFoundError` and using `pass`\n",
        "Catching `FileNotFoundError` lets you decide whether to warn, skip, or continue silently."
      ]
    },
    {
      "cell_type": "markdown",
      "metadata": {
        "id": "B-NNl7DZhlM8"
      },
      "source": [
        "open a file and read its full contents, then use try/except for error handling, then print results."
      ],
      "id": "B-NNl7DZhlM8"
    },
    {
      "cell_type": "code",
      "execution_count": null,
      "id": "191b11eb",
      "metadata": {
        "id": "191b11eb",
        "colab": {
          "base_uri": "https://localhost:8080/"
        },
        "outputId": "2a26de04-7543-499e-9b48-6581b61dd87f"
      },
      "outputs": [
        {
          "output_type": "stream",
          "name": "stdout",
          "text": [
            "Alice was beginning to get very tired of sitting by her sister on the bank...\n"
          ]
        }
      ],
      "source": [
        "filename = 'alice.txt'\n",
        "try:  # start try block (may raise error)\n",
        "    with open(filename, encoding='utf-8') as f:  # open file safely for reading\n",
        "        contents = f.read()  # read entire file content\n",
        "except FileNotFoundError:  # handle a specific exception\n",
        "    # Silently skip\n",
        "    pass\n",
        "else:  # fallback branch\n",
        "    print(contents[:200])  # display output\n"
      ]
    },
    {
      "cell_type": "markdown",
      "metadata": {
        "id": "hf62wCBDhlNA"
      },
      "source": [
        "creates/overwrite a file and write text, then print results."
      ],
      "id": "hf62wCBDhlNA"
    },
    {
      "cell_type": "code",
      "execution_count": null,
      "id": "3a2bd2b4",
      "metadata": {
        "id": "3a2bd2b4",
        "colab": {
          "base_uri": "https://localhost:8080/"
        },
        "outputId": "cec03ed5-e318-4436-dbbb-6df60719abe1"
      },
      "outputs": [
        {
          "output_type": "stream",
          "name": "stdout",
          "text": [
            "First 80 chars:\n",
            "Alice was beginning to get very tired of sitting by her sister on the bank...\n"
          ]
        }
      ],
      "source": [
        "# Real Output Demo: create the file so the else branch runs\n",
        "filename = 'alice.txt'\n",
        "with open(filename, 'w', encoding='utf-8') as f:  # open file in write mode (overwrite/create)\n",
        "    f.write('Alice was beginning to get very tired of sitting by her sister on the bank...')  # write text to file\n",
        "\n",
        "with open(filename, encoding='utf-8') as f:  # open file safely for reading\n",
        "    contents = f.read()  # read entire file content\n",
        "print('First 80 chars:')  # display output\n",
        "print(contents[:80])  # disp\n",
        "\n",
        "\n"
      ]
    },
    {
      "cell_type": "markdown",
      "id": "4b4ec4b5",
      "metadata": {
        "id": "4b4ec4b5"
      },
      "source": [
        "## Practical pattern: count words in a text file\n",
        "Try to open a file; if it works, process its contents. Otherwise, report the issue and move on."
      ]
    },
    {
      "cell_type": "markdown",
      "metadata": {
        "id": "iKDgOcT3hlNE"
      },
      "source": [
        "define functions, then open a file and read its full contents, then read a file line by line, then use try/except for error handling, then print results."
      ],
      "id": "iKDgOcT3hlNE"
    },
    {
      "cell_type": "code",
      "execution_count": null,
      "id": "1baca2cd",
      "metadata": {
        "id": "1baca2cd",
        "colab": {
          "base_uri": "https://localhost:8080/"
        },
        "outputId": "1959b1cd-c5bc-4936-8047-6b3a7bdb9f67"
      },
      "outputs": [
        {
          "output_type": "stream",
          "name": "stdout",
          "text": [
            "alice.txt: 15 words\n",
            "Warning: file 'moby_dick.txt' not found.\n",
            "Warning: file 'little_women.txt' not found.\n"
          ]
        }
      ],
      "source": [
        "def count_words(filename):  # define function count_words\n",
        "    \"\"\"Print the number of words found in a text file.\"\"\"\n",
        "    try:  # start try block\n",
        "        with open(filename, encoding='utf-8') as f:  # open file safely for reading\n",
        "            contents = f.read()  # read entire file content\n",
        "    except FileNotFoundError:  # handle a specific exception\n",
        "        print(f\"Warning: file {filename!r} not found.\")  # display output\n",
        "    else:  # fallback branch\n",
        "        words = contents.split()\n",
        "        print(f\"{filename}: {len(words)} words\")  # display output\n",
        "\n",
        "for name in ['alice.txt', 'moby_dick.txt', 'little_women.txt']:  # loop over items\n",
        "    count_words(name)\n"
      ]
    },
    {
      "cell_type": "markdown",
      "metadata": {
        "id": "3kvqmAJihlNG"
      },
      "source": [
        "creates/overwrite a file and write text, then read a file line by line, then print results."
      ],
      "id": "3kvqmAJihlNG"
    },
    {
      "cell_type": "code",
      "execution_count": null,
      "id": "4b1640af",
      "metadata": {
        "id": "4b1640af",
        "colab": {
          "base_uri": "https://localhost:8080/"
        },
        "outputId": "9783d1f1-a6f6-47b4-ec4f-b8d8e014d699"
      },
      "outputs": [
        {
          "output_type": "stream",
          "name": "stdout",
          "text": [
            "demo_a.txt: 3 words\n",
            "demo_b.txt: 4 words\n",
            "demo_c.txt: 5 words\n"
          ]
        }
      ],
      "source": [
        "# Real Output Demo: make three tiny files and count their words\n",
        "files = {\n",
        "    'demo_a.txt': 'one two three',\n",
        "    'demo_b.txt': 'alpha beta gamma delta',\n",
        "    'demo_c.txt': 'lorem ipsum dolor sit amet',\n",
        "}\n",
        "for fname, text in files.items():  # loop over items\n",
        "    with open(fname, 'w', encoding='utf-8') as f:  # open file in write mode (overwrite/create)\n",
        "        f.write(text)  # write text to file\n",
        "\n",
        "for name in files:  # loop over items\n",
        "    with open(name, encoding='utf-8') as f:  # open file safely for reading\n",
        "        contents = f.read()  # read entire file content\n",
        "    print(f\"{name}: {len(contents.split())} words\")  # display output\n"
      ]
    },
    {
      "cell_type": "markdown",
      "id": "02a4ed3c",
      "metadata": {
        "id": "02a4ed3c"
      },
      "source": [
        "## 4) Storing data with `json` (`dump` and `load`)\n",
        "Save simple Python data (lists, dicts) to disk and load it later in a portable way."
      ]
    },
    {
      "cell_type": "markdown",
      "metadata": {
        "id": "1lvDgThthlNK"
      },
      "source": [
        "creates/overwrite a file and write text, then works with JSON data, then print results."
      ],
      "id": "1lvDgThthlNK"
    },
    {
      "cell_type": "code",
      "execution_count": null,
      "id": "40cc8c6c",
      "metadata": {
        "id": "40cc8c6c",
        "colab": {
          "base_uri": "https://localhost:8080/"
        },
        "outputId": "b3dbfeea-08a5-4378-df64-04f08dce83c1"
      },
      "outputs": [
        {
          "output_type": "stream",
          "name": "stdout",
          "text": [
            "Saved numbers.json\n",
            "Loaded: [2, 3, 5, 7, 11, 13]\n"
          ]
        }
      ],
      "source": [
        "import json  # import module(s)\n",
        "\n",
        "numbers = [2, 3, 5, 7, 11, 13]\n",
        "\n",
        "with open('numbers.json', 'w') as f:  # open file in write mode (overwrite/create)\n",
        "    json.dump(numbers, f)  # convert the list to json and write it in to the file f.\n",
        "print('Saved numbers.json')\n",
        "\n",
        "with open('numbers.json') as f:  # open file safely for reading\n",
        "    loaded = json.load(f)  # read json from the file and convert it back to the pythn object.\n",
        "print('Loaded:', loaded)\n"
      ]
    },
    {
      "cell_type": "markdown",
      "metadata": {
        "id": "vgmyZEvQhlNM"
      },
      "source": [
        "works with JSON data, then print results."
      ],
      "id": "vgmyZEvQhlNM"
    },
    {
      "cell_type": "code",
      "execution_count": null,
      "id": "3eed2ef4",
      "metadata": {
        "id": "3eed2ef4",
        "colab": {
          "base_uri": "https://localhost:8080/"
        },
        "outputId": "78c2fe04-5290-494c-cfa2-cf2e51ce7062"
      },
      "outputs": [
        {
          "output_type": "stream",
          "name": "stdout",
          "text": [
            "Sum: 41\n",
            "Count: 6\n"
          ]
        }
      ],
      "source": [
        "# show a computation on the loaded data\n",
        "import json  # import module(s)\n",
        "with open('numbers.json') as f:  # open file safely for reading\n",
        "    nums = json.load(f)  # read json from the file and convert it back to the pythn object.\n",
        "print('Sum:', sum(nums))  # display output\n",
        "print('Count:', len(nums))  # display output\n"
      ]
    },
    {
      "cell_type": "markdown",
      "id": "92268f40",
      "metadata": {
        "id": "92268f40"
      },
      "source": [
        "## Remembering a user’s name and refactoring into functions\n",
        "Split logic into small functions: fetch a stored name if available, otherwise ask (placeholder here), store it, and greet the user."
      ]
    },
    {
      "cell_type": "markdown",
      "metadata": {
        "id": "bs_KDuUJhlNP"
      },
      "source": [
        "define functions, then creates/overwrite a file and write text, then use try/except for error handling, then works with JSON data, then print results."
      ],
      "id": "bs_KDuUJhlNP"
    },
    {
      "cell_type": "code",
      "execution_count": null,
      "id": "d3d5867f",
      "metadata": {
        "id": "d3d5867f",
        "colab": {
          "base_uri": "https://localhost:8080/"
        },
        "outputId": "2be6e508-5fb8-47a8-9102-acdd1444edf1"
      },
      "outputs": [
        {
          "output_type": "stream",
          "name": "stdout",
          "text": [
            "What is your name? Mehri\n",
            "We’ll remember you when you come back, Mehri!\n"
          ]
        }
      ],
      "source": [
        "import json  # import module(s)\n",
        "\n",
        "def get_stored_username(filename='username.json'):\n",
        "\n",
        "    try:\n",
        "        with open(filename) as f:\n",
        "            return json.load(f)  # read JSON → Python value\n",
        "    except FileNotFoundError:  # if the file doesn't exist\n",
        "        return None  #nothing saved\n",
        "\n",
        "def get_new_username(filename='username.json'):\n",
        "    \"\"\"Ask for a username via input(), save it to JSON, and return it.\"\"\"\n",
        "    while True:\n",
        "        username = input(\"What is your name? \").strip()\n",
        "        if username:\n",
        "            break\n",
        "        print(\"Please enter a non-empty name.\")\n",
        "\n",
        "    username = username.title()\n",
        "    with open(filename, 'w') as f:\n",
        "        json.dump(username, f)  # convert the list to json and write it in to the file f.\n",
        "    return username\n",
        "\n",
        "\n",
        "def greet_user(filename='username3.json'):\n",
        "\n",
        "    username = get_stored_username(filename)\n",
        "    if username:\n",
        "        print(f\"Welcome back, {username}!\")\n",
        "    else:  # fallback branch\n",
        "        username = get_new_username(filename)\n",
        "        print(f\"We’ll remember you when you come back, {username}!\")\n",
        "# Pattern-only call (may or may not find a stored name yet)\n",
        "\n",
        "greet_user()\n"
      ]
    },
    {
      "cell_type": "markdown",
      "metadata": {
        "id": "8daeb7ef"
      },
      "source": [
        "## `finally` for guaranteed cleanup\n",
        "finally is a block that always runs after a try/except—whether the code succeeds or fails.\n",
        "\n",
        "Use it for cleanup you must guarantee: close files, release a lock, stop a timer/progress bar, delete a temp file, print a status line, etc."
      ],
      "id": "8daeb7ef"
    },
    {
      "cell_type": "code",
      "execution_count": null,
      "metadata": {
        "id": "b6b234d2"
      },
      "outputs": [],
      "source": [
        "# show `finally` both on success and on error\n",
        "\n",
        "def demo_finally(value):  # define function demo_finally\n",
        "    try:\n",
        "        n = int(value)\n",
        "    except ValueError:\n",
        "        print('Oops — not an int!')\n",
        "    else:  # fallback branch\n",
        "        print('Success:', n)\n",
        "    finally:\n",
        "         print (\"cleanup in finally.\")  # closes even if an error happened\n",
        "\n",
        "\n",
        "\n",
        "for v in ['42', 'abc']:\n",
        "    demo_finally(v)"
      ],
      "id": "b6b234d2"
    },
    {
      "cell_type": "markdown",
      "source": [
        "### File modes at a glance\n",
        "\n",
        "| Mode | Meaning | File must exist? | Pointer position | Overwrite? |\n",
        "|---|---|---:|---|---|\n",
        "| `'r'` | read-only | ✅ | start | ❌ |\n",
        "| `'w'` | write (truncate/create) | ❌ | start | ✅ (erases old content) |\n",
        "| `'a'` | append (create if missing) | ❌ | end | ❌ (adds to end) |\n",
        "| `'r+'` | read & write | ✅ | start | ❌ |\n",
        "| `'w+'` | write & read (truncate/create) | ❌ | start | ✅ |\n",
        "| `'a+'` | append & read (create if missing) | ❌ | end | ❌ |\n"
      ],
      "metadata": {
        "id": "yiOGcr5bWmTz"
      },
      "id": "yiOGcr5bWmTz"
    },
    {
      "cell_type": "markdown",
      "id": "bfa515eb",
      "metadata": {
        "id": "bfa515eb"
      },
      "source": [
        "---\n",
        "**Wrap-up reminders:**\n",
        "- Use `with open(...)` and the right reading strategy (whole file, per-line, or `readlines()`).\n",
        "- `'w'` overwrites; `'a'` appends.\n",
        "- Catch exceptions (`try/except/else`) to keep your programs user-friendly.\n",
        "- Use `json` for simple, portable persistence.\n",
        "- The **Real Output Demo** cells are self-contained and safe to run anywhere."
      ]
    }
  ],
  "metadata": {
    "kernelspec": {
      "display_name": "Python 3",
      "language": "python",
      "name": "python3"
    },
    "language_info": {
      "name": "python",
      "version": "3.11"
    },
    "colab": {
      "provenance": [],
      "include_colab_link": true
    },
    "comment_helper": {
      "note": "Brief English comments automatically added; code logic unchanged."
    }
  },
  "nbformat": 4,
  "nbformat_minor": 5
}