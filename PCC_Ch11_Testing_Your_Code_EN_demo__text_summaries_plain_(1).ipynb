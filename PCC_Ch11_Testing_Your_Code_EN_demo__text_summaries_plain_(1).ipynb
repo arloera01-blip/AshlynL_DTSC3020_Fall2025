{
  "cells": [
    {
      "cell_type": "markdown",
      "metadata": {
        "id": "view-in-github",
        "colab_type": "text"
      },
      "source": [
        "<a href=\"https://colab.research.google.com/github/arloera01-blip/AshlynL_DTSC3020_Fall2025/blob/main/PCC_Ch11_Testing_Your_Code_EN_demo__text_summaries_plain_(1).ipynb\" target=\"_parent\"><img src=\"https://colab.research.google.com/assets/colab-badge.svg\" alt=\"Open In Colab\"/></a>"
      ]
    },
    {
      "cell_type": "markdown",
      "id": "8d5b072b",
      "metadata": {
        "id": "8d5b072b"
      },
      "source": [
        "# Chapter 11 — Testing Your Code\n",
        "\n"
      ]
    },
    {
      "cell_type": "markdown",
      "id": "8e26542d",
      "metadata": {
        "id": "8e26542d"
      },
      "source": [
        "## 1) Why write tests? The `unittest` basics\n",
        "We are learning how to write basic tests in Python using the built-in unittest module.\n",
        "\n",
        "Goal: prove our function returns the exact result we expect.\n",
        "\n",
        ".........\n",
        "\n",
        "• A test is a small program that calls your code and checks the result.\n",
        "\n",
        " • With unittest, we make a class that inherits from unittest.TestCase.\n",
        "\n",
        " • Every method whose name starts with test_ is a test.\n",
        "\n",
        " • We check results with assertions (for example, assertEqual).\n",
        "\n",
        " • In notebooks (Colab/Jupyter) we run tests with\n",
        "unittest.main(argv=[''], exit=False) so the notebook doesn’t stop.\n"
      ]
    },
    {
      "cell_type": "markdown",
      "metadata": {
        "id": "sgpNi44rjvW9"
      },
      "source": [
        "define unit tests with unittest.TestCase, then check behavior using assertions, then run tests in the notebook with unittest.main."
      ],
      "id": "sgpNi44rjvW9"
    },
    {
      "cell_type": "code",
      "execution_count": null,
      "id": "20c438b5",
      "metadata": {
        "id": "20c438b5",
        "colab": {
          "base_uri": "https://localhost:8080/"
        },
        "outputId": "bfce8a61-9ed4-443e-cc50-5cc3769fc86a"
      },
      "outputs": [
        {
          "output_type": "stream",
          "name": "stderr",
          "text": [
            "test_first_last_name (__main__.TestNamesBasics.test_first_last_name) ... ok\n",
            "\n",
            "----------------------------------------------------------------------\n",
            "Ran 1 test in 0.001s\n",
            "\n",
            "OK\n"
          ]
        },
        {
          "output_type": "execute_result",
          "data": {
            "text/plain": [
              "<unittest.main.TestProgram at 0x7e7f0642f830>"
            ]
          },
          "metadata": {},
          "execution_count": 10
        }
      ],
      "source": [
        "#structure of a simple test for a function\n",
        "\n",
        "import unittest  # import module( Testcase and assertion )\n",
        "\n",
        "# Function to test\n",
        "def get_formatted_name(first, last):  # define function get_formatted_name\n",
        "    return f\"{first.title()} {last.title()}\"\n",
        "\n",
        "class TestNamesBasics(unittest.TestCase):  # define class TestNamesBasics\n",
        "\n",
        "# write one test method\n",
        "    def test_first_last_name(self): # the name start with test_ : unittest will auto-discover it.\n",
        "        formatted = get_formatted_name('sarah', 'abi') # Arrange and call\n",
        "\n",
        "        self.assertEqual(formatted, 'Sarah Abi')  #  check actual result equals the expected string\n",
        "\n",
        "\n",
        "# When we run this in the notebook; if actual equals expected, we see OK.\n",
        "unittest.main(argv=[''], exit=False, verbosity=2)  # run tests inside the notebook\n",
        "\n",
        "# If you later move to a .py script (not a notebook)\n",
        "# if __name__ == '__main__':\n",
        "#    unittest.main()\n",
        "\n"
      ]
    },
    {
      "cell_type": "markdown",
      "source": [
        "The whole structure: import → write the function → make a TestCase class → add test_ methods → (optionally) run unittest.main."
      ],
      "metadata": {
        "id": "y7r4w3yfVShB"
      },
      "id": "y7r4w3yfVShB"
    },
    {
      "cell_type": "markdown",
      "id": "10038275",
      "metadata": {
        "id": "10038275"
      },
      "source": [
        "## 2) Testing multiple inputs: optional middle name\n",
        "Add a parameter (e.g., `middle=''`). Write **two tests**: one for first+last, one for first+middle+last. This demonstrates how tests protect you as a function evolves."
      ]
    },
    {
      "cell_type": "markdown",
      "metadata": {
        "id": "Xe_kVjDcjvXf"
      },
      "source": [
        "define unit tests with unittest.TestCase, then check behavior using assertions, then run tests in the notebook with unittest.main."
      ],
      "id": "Xe_kVjDcjvXf"
    },
    {
      "cell_type": "code",
      "execution_count": null,
      "id": "30b9e8ba",
      "metadata": {
        "id": "30b9e8ba",
        "colab": {
          "base_uri": "https://localhost:8080/"
        },
        "outputId": "8ae51fad-326e-4406-a5ff-914f8257564f"
      },
      "outputs": [
        {
          "output_type": "stream",
          "name": "stderr",
          "text": [
            "test_first_last (__main__.TestNamesMiddlePattern.test_first_last) ... ok\n",
            "test_first_middle_last (__main__.TestNamesMiddlePattern.test_first_middle_last) ... ok\n",
            "\n",
            "----------------------------------------------------------------------\n",
            "Ran 2 tests in 0.004s\n",
            "\n",
            "OK\n"
          ]
        },
        {
          "output_type": "execute_result",
          "data": {
            "text/plain": [
              "<unittest.main.TestProgram at 0x783cb093ef90>"
            ]
          },
          "metadata": {},
          "execution_count": 1
        }
      ],
      "source": [
        "import unittest\n",
        "\n",
        "def get_formatted_name(first, last, middle=''):\n",
        "    if middle:\n",
        "        full = f\"{first} {middle} {last}\"\n",
        "    else:\n",
        "        full = f\"{first} {last}\"\n",
        "    return full.title()\n",
        "\n",
        "class TestNamesMiddlePattern(unittest.TestCase):  # define class TestNamesMiddlePattern\n",
        "\n",
        "    def test_first_last(self):\n",
        "        self.assertEqual(get_formatted_name('ada', 'lovelace'), 'Ada Lovelace')  # check actual result equals the expected string\n",
        "\n",
        "    def test_first_middle_last(self):\n",
        "        self.assertEqual(get_formatted_name('wolfgang', 'mozart', 'amadeus'), 'Wolfgang Amadeus Mozart')\n",
        "\n",
        "unittest.main(argv=[''], exit=False, verbosity=2)"
      ]
    },
    {
      "cell_type": "markdown",
      "id": "5164e33b",
      "metadata": {
        "id": "5164e33b"
      },
      "source": [
        "## 3) Common assertions you’ll use a lot\n",
        "\n",
        "\n",
        "- assertEqual(a, b) — Passes if a == b.\n",
        "  Example: self.assertEqual(get_formatted_name('ada','lovelace'), 'Ada Lovelace')\n",
        "\n",
        ".....\n",
        "\n",
        "- assertNotEqual(a, b) — Passes if a != b.\n",
        "  Example: self.assertNotEqual(len('abc'), 4)\n",
        "\n",
        "  .....\n",
        "\n",
        "\n",
        "- assertTrue(x) — Passes if bool(x) is True.\n",
        "  Example: self.assertTrue('Alice'.startswith('A'))\n",
        "\n",
        "  .....\n",
        "\n",
        "- assertFalse(x) — Passes if bool(x) is False.\n",
        "  Example: self.assertFalse('Alice'.endswith('z'))\n",
        "\n",
        "  .....\n",
        "\n",
        "- assertIn(member, container) — Passes if member is inside container (list, set, dict keys, string, …).\n",
        "  Example: self.assertIn('id', {'id': 3, 'name': 'Ana'})\n",
        "\n",
        "  .....\n",
        "\n",
        "- assertNotIn(member, container) — Passes if member is NOT inside container.\n",
        "  Example: self.assertNotIn('price', {'id': 3, 'name': 'Ana'})\n",
        "\n",
        "  .....\n",
        "\n",
        "- assertRaises(ErrorType, callable, *args, **kwargs) — Passes if the call raises the expected error.\n",
        "\n",
        "\n",
        "....\n",
        "\n",
        "\n",
        "Tips: Keep each test focused on one idea, name test methods with test_..., and in notebooks run with\n",
        "unittest.main(argv=[''], exit=False, verbosity=2) to see test names.\n",
        "\"\"\"\n",
        "\n",
        "print(text)\n"
      ]
    },
    {
      "cell_type": "markdown",
      "metadata": {
        "id": "P91Mhd1IjvXx"
      },
      "source": [
        "define unit tests with unittest.TestCase, then check behavior using assertions, then verify exceptions using assertRaises, then run tests in the notebook with unittest.main."
      ],
      "id": "P91Mhd1IjvXx"
    },
    {
      "cell_type": "code",
      "execution_count": null,
      "id": "b385703e",
      "metadata": {
        "id": "b385703e",
        "colab": {
          "base_uri": "https://localhost:8080/"
        },
        "outputId": "95e309fd-e993-49f5-ed42-1cf1e3968c4d"
      },
      "outputs": [
        {
          "output_type": "stream",
          "name": "stderr",
          "text": [
            "test_equality (__main__.TestAssertionsPattern.test_equality) ... ok\n",
            "test_membership (__main__.TestAssertionsPattern.test_membership) ... ok\n",
            "test_raises (__main__.TestAssertionsPattern.test_raises) ... ok\n",
            "test_truthiness (__main__.TestAssertionsPattern.test_truthiness) ... ok\n",
            "\n",
            "----------------------------------------------------------------------\n",
            "Ran 4 tests in 0.010s\n",
            "\n",
            "OK\n"
          ]
        },
        {
          "output_type": "execute_result",
          "data": {
            "text/plain": [
              "<unittest.main.TestProgram at 0x7a97cf9c6750>"
            ]
          },
          "metadata": {},
          "execution_count": 1
        }
      ],
      "source": [
        "#a few assertions\n",
        "import unittest\n",
        "\n",
        "def is_even(n):\n",
        "    return n % 2 == 0  # the remainder = 0\n",
        "\n",
        "class TestAssertionsPattern(unittest.TestCase):  # define class TestAssertionsPattern\n",
        "\n",
        "    def test_equality(self):\n",
        "        self.assertEqual(2 + 2, 4)# actual result equals the expected string\n",
        "        self.assertNotEqual(2 + 2, 5)\n",
        "\n",
        "    def test_truthiness(self):  # define function test_truthiness\n",
        "        self.assertTrue(is_even(4))\n",
        "        self.assertFalse(is_even(5))\n",
        "\n",
        "    def test_membership(self):  # define function test_membership\n",
        "\n",
        "        self.assertIn('a', 'cat')\n",
        "        self.assertNotIn('z', 'cat')\n",
        "\n",
        "\n",
        "    def test_raises(self):  # define function test_raises\n",
        "        with self.assertRaises(ZeroDivisionError):\n",
        "            _ = 1 / 0\n",
        "\n",
        "unittest.main(argv=[''], exit=False,verbosity=2)  # pattern only"
      ]
    },
    {
      "cell_type": "markdown",
      "metadata": {
        "id": "umqzA-u6jvX0"
      },
      "source": [
        "define unit tests with unittest.TestCase, then check behavior using assertions, then verify exceptions using assertRaises, then run tests in the notebook with unittest.main."
      ],
      "id": "umqzA-u6jvX0"
    },
    {
      "cell_type": "markdown",
      "id": "ce4bb92d",
      "metadata": {
        "id": "ce4bb92d"
      },
      "source": [
        "## 4) Testing classes with `unittest`\n",
        "Create a class and verify its behavior through methods. Example: a tiny survey class that stores responses. Tests check that one or many responses are stored correctly."
      ]
    },
    {
      "cell_type": "markdown",
      "metadata": {
        "id": "Jp5AcHQyjvX7"
      },
      "source": [
        "define unit tests with unittest.TestCase, then check behavior using assertions, then run tests in the notebook with unittest.main."
      ],
      "id": "Jp5AcHQyjvX7"
    },
    {
      "cell_type": "code",
      "execution_count": null,
      "id": "0aecf1f9",
      "metadata": {
        "id": "0aecf1f9",
        "colab": {
          "base_uri": "https://localhost:8080/"
        },
        "outputId": "1e57cbf2-b7c3-4011-ae45-b107bf88433d"
      },
      "outputs": [
        {
          "output_type": "stream",
          "name": "stderr",
          "text": [
            "test_store_single_response (__main__.TestAnonymousSurvey_Run.test_store_single_response) ... ok\n",
            "test_store_three_responses (__main__.TestAnonymousSurvey_Run.test_store_three_responses) ... ok\n",
            "test_equality (__main__.TestAssertionsPattern.test_equality) ... ok\n",
            "test_membership (__main__.TestAssertionsPattern.test_membership) ... ok\n",
            "test_raises (__main__.TestAssertionsPattern.test_raises) ... ok\n",
            "test_truthiness (__main__.TestAssertionsPattern.test_truthiness) ... ok\n",
            "\n",
            "----------------------------------------------------------------------\n",
            "Ran 6 tests in 0.012s\n",
            "\n",
            "OK\n"
          ]
        },
        {
          "output_type": "execute_result",
          "data": {
            "text/plain": [
              "<unittest.main.TestProgram at 0x7a97cedb6ab0>"
            ]
          },
          "metadata": {},
          "execution_count": 2
        }
      ],
      "source": [
        "# run the survey tests\n",
        "import unittest\n",
        "\n",
        "class AnonymousSurvey_Run:\n",
        "    def __init__(self, question):\n",
        "        self.question = question\n",
        "        self.responses = []\n",
        "\n",
        "\n",
        "    def show_question(self):  # define function show_question\n",
        "        return self.question\n",
        "\n",
        "    def store_response(self, response):  # define function store_response\n",
        "        self.responses.append(response)\n",
        "\n",
        "class TestAnonymousSurvey_Run(unittest.TestCase):  # define class TestAnonymousSurvey_Run\n",
        "\n",
        "    def test_store_single_response(self):\n",
        "        survey = AnonymousSurvey_Run('What language do you speak?')\n",
        "        survey.store_response('Python')\n",
        "        self.assertIn('Python', survey.responses)\n",
        "\n",
        "    def test_store_three_responses(self):  # define function test_store_three_responses\n",
        "        survey = AnonymousSurvey_Run('What language do you speak?')\n",
        "        for r in ['Python', 'C', 'Java']:  # loop over items\n",
        "            survey.store_response(r)\n",
        "        self.assertEqual(survey.responses, ['Python', 'C', 'Java'])\n",
        "\n",
        "unittest.main(argv=[''], exit=False, verbosity=2)  # run tests inside the notebook\n"
      ]
    },
    {
      "cell_type": "markdown",
      "id": "23aee365",
      "metadata": {
        "id": "23aee365"
      },
      "source": [
        "## 5) Using `setUp()` to reduce repetition\n",
        "`setUp()` runs **before each test method** and prepares fresh objects/values. This keeps tests clean and avoids duplicate initialization code."
      ]
    },
    {
      "cell_type": "code",
      "execution_count": null,
      "id": "89c4b86c",
      "metadata": {
        "id": "89c4b86c",
        "colab": {
          "base_uri": "https://localhost:8080/"
        },
        "outputId": "fc5b7d20-907d-48db-ad3d-1074c9172300"
      },
      "outputs": [
        {
          "output_type": "stream",
          "name": "stderr",
          "text": [
            "test_store_multiple (__main__.TestAnonymousSurveySetUpPattern.test_store_multiple) ... ok\n",
            "test_store_single (__main__.TestAnonymousSurveySetUpPattern.test_store_single) ... ok\n",
            "test_store_single_response (__main__.TestAnonymousSurvey_Run.test_store_single_response) ... ok\n",
            "test_store_three_responses (__main__.TestAnonymousSurvey_Run.test_store_three_responses) ... ok\n",
            "test_equality (__main__.TestAssertionsPattern.test_equality) ... ok\n",
            "test_membership (__main__.TestAssertionsPattern.test_membership) ... ok\n",
            "test_raises (__main__.TestAssertionsPattern.test_raises) ... ok\n",
            "test_truthiness (__main__.TestAssertionsPattern.test_truthiness) ... ok\n",
            "\n",
            "----------------------------------------------------------------------\n",
            "Ran 8 tests in 0.019s\n",
            "\n",
            "OK\n"
          ]
        },
        {
          "output_type": "execute_result",
          "data": {
            "text/plain": [
              "<unittest.main.TestProgram at 0x7a97cde73bf0>"
            ]
          },
          "metadata": {},
          "execution_count": 6
        }
      ],
      "source": [
        "# use setUp for a survey\n",
        "import unittest\n",
        "\n",
        "class AnonymousSurvey2:\n",
        "    def __init__(self, question):\n",
        "        self.question = question\n",
        "        self.responses = []\n",
        "\n",
        "    def store_response(self, response):  # define function store_response\n",
        "        self.responses.append(response)\n",
        "\n",
        "\n",
        "class TestAnonymousSurveySetUpPattern(unittest.TestCase):  # define class TestAnonymousSurveySetUpPattern\n",
        "\n",
        "    def setUp(self):  # define function setUp\n",
        "        self.survey = AnonymousSurvey2('Favorite language?')\n",
        "        self.sample_responses = ['Python', 'C', 'Go']\n",
        "\n",
        "    def test_store_single(self):  # define function test_store_single\n",
        "        self.survey.store_response(self.sample_responses[0])\n",
        "        self.assertIn('Python', self.survey.responses)\n",
        "\n",
        "    def test_store_multiple(self):  # define function test_store_multiple\n",
        "        for r in self.sample_responses:  # loop over items\n",
        "            self.survey.store_response(r)\n",
        "        self.assertEqual(self.survey.responses, self.sample_responses)\n",
        "\n",
        "unittest.main(argv=[''], exit=False, verbosity=2)  # pattern only"
      ]
    },
    {
      "cell_type": "markdown",
      "id": "9d3b1645",
      "metadata": {
        "id": "9d3b1645"
      },
      "source": [
        "## 6) What a failing test looks like (then fix it)\n",
        "It’s healthy to **see** failures: they guide your next fix. Here we intentionally break a function, watch the test fail, then correct the function and watch the test pass."
      ]
    },
    {
      "cell_type": "markdown",
      "metadata": {
        "id": "qMYnKlx1jvYH"
      },
      "source": [
        "define unit tests with unittest.TestCase, then check behavior using assertions, then run tests in the notebook with unittest.main."
      ],
      "id": "qMYnKlx1jvYH"
    },
    {
      "cell_type": "code",
      "execution_count": null,
      "id": "d45fd6c0",
      "metadata": {
        "id": "d45fd6c0"
      },
      "outputs": [],
      "source": [
        "# failing test first\n",
        "import unittest  # import module(s)\n",
        "\n",
        "def title_case_bad(name):  # define function title_case_bad\n",
        "    # intentionally wrong: uppercases everything\n",
        "    \"\"\"Short docstring: explain what title_case_bad does.\"\"\"\n",
        "    return name.upper()  # return a value\n",
        "\n",
        "class TestFailingPattern(unittest.TestCase):  # define class TestFailingPattern\n",
        "    def test_title_case(self):  # define function test_title_case\n",
        "        \"\"\"Short docstring: explain what test_title_case does.\"\"\"\n",
        "        self.assertEqual(title_case_bad('ada lovelace'), 'Ada Lovelace')  # use a unittest assertion\n",
        "\n",
        "# unittest.main(argv=[''], exit=False)  # not run in pattern cell"
      ]
    },
    {
      "cell_type": "markdown",
      "metadata": {
        "id": "S2DRPEjvjvYK"
      },
      "source": [
        "define unit tests with unittest.TestCase, then check behavior using assertions, then run tests in the notebook with unittest.main."
      ],
      "id": "S2DRPEjvjvYK"
    },
    {
      "cell_type": "code",
      "source": [
        "def title_case_bad(name):  # define function title_case_bad\n",
        "    return name.upper()\n",
        "\n",
        "name = 'ada lovelace'\n",
        "title_case_bad(name)"
      ],
      "metadata": {
        "colab": {
          "base_uri": "https://localhost:8080/",
          "height": 36
        },
        "id": "y61oDL-EvOMF",
        "outputId": "72d7b0da-7f2e-4ca3-86e2-0bfadcf65af1"
      },
      "id": "y61oDL-EvOMF",
      "execution_count": null,
      "outputs": [
        {
          "output_type": "execute_result",
          "data": {
            "text/plain": [
              "'ADA LOVELACE'"
            ],
            "application/vnd.google.colaboratory.intrinsic+json": {
              "type": "string"
            }
          },
          "metadata": {},
          "execution_count": 3
        }
      ]
    },
    {
      "cell_type": "code",
      "source": [
        "def title_case_good(name):  # define function title_case_good\n",
        "    return ' '.join(part.capitalize() for part in name.split())\n",
        "\n",
        "\n",
        "title_case_good(name)"
      ],
      "metadata": {
        "colab": {
          "base_uri": "https://localhost:8080/",
          "height": 36
        },
        "id": "GpbpzGlcvaAw",
        "outputId": "9f4e9020-b138-4192-9229-d86254e83675"
      },
      "id": "GpbpzGlcvaAw",
      "execution_count": null,
      "outputs": [
        {
          "output_type": "execute_result",
          "data": {
            "text/plain": [
              "'Ada Lovelace'"
            ],
            "application/vnd.google.colaboratory.intrinsic+json": {
              "type": "string"
            }
          },
          "metadata": {},
          "execution_count": 4
        }
      ]
    },
    {
      "cell_type": "code",
      "execution_count": null,
      "id": "6263f9d4",
      "metadata": {
        "id": "6263f9d4",
        "colab": {
          "base_uri": "https://localhost:8080/"
        },
        "outputId": "cba7f4f1-01a8-4fab-85cd-ed59d434beda"
      },
      "outputs": [
        {
          "output_type": "stream",
          "name": "stderr",
          "text": [
            "F\n",
            "======================================================================\n",
            "FAIL: test_title_case (__main__.TestFailing_Run.test_title_case)\n",
            "----------------------------------------------------------------------\n",
            "Traceback (most recent call last):\n",
            "  File \"/tmp/ipython-input-2355546369.py\", line 10, in test_title_case\n",
            "    self.assertEqual(title_case_bad('ada lovelace'), 'Ada Lovelace')\n",
            "AssertionError: 'ADA LOVELACE' != 'Ada Lovelace'\n",
            "- ADA LOVELACE\n",
            "+ Ada Lovelace\n",
            "\n",
            "\n",
            "----------------------------------------------------------------------\n",
            "Ran 1 test in 0.002s\n",
            "\n",
            "FAILED (failures=1)\n",
            "F.\n",
            "======================================================================\n",
            "FAIL: test_title_case (__main__.TestFailing_Run.test_title_case)\n",
            "----------------------------------------------------------------------\n",
            "Traceback (most recent call last):\n",
            "  File \"/tmp/ipython-input-2355546369.py\", line 10, in test_title_case\n",
            "    self.assertEqual(title_case_bad('ada lovelace'), 'Ada Lovelace')\n",
            "AssertionError: 'ADA LOVELACE' != 'Ada Lovelace'\n",
            "- ADA LOVELACE\n",
            "+ Ada Lovelace\n",
            "\n",
            "\n",
            "----------------------------------------------------------------------\n",
            "Ran 2 tests in 0.002s\n",
            "\n",
            "FAILED (failures=1)\n",
            "test_title_case (__main__.TestFailing_Run.test_title_case) ... FAIL\n",
            "test_title_case (__main__.TestFixed_Run.test_title_case) ... ok\n",
            "\n",
            "======================================================================\n",
            "FAIL: test_title_case (__main__.TestFailing_Run.test_title_case)\n",
            "----------------------------------------------------------------------\n",
            "Traceback (most recent call last):\n",
            "  File \"/tmp/ipython-input-2355546369.py\", line 10, in test_title_case\n",
            "    self.assertEqual(title_case_bad('ada lovelace'), 'Ada Lovelace')\n",
            "AssertionError: 'ADA LOVELACE' != 'Ada Lovelace'\n",
            "- ADA LOVELACE\n",
            "+ Ada Lovelace\n",
            "\n",
            "\n",
            "----------------------------------------------------------------------\n",
            "Ran 2 tests in 0.003s\n",
            "\n",
            "FAILED (failures=1)\n"
          ]
        },
        {
          "output_type": "stream",
          "name": "stdout",
          "text": [
            "--- Running failing test ---\n",
            "\n",
            "--- Running passing test after fix ---\n"
          ]
        },
        {
          "output_type": "execute_result",
          "data": {
            "text/plain": [
              "<unittest.main.TestProgram at 0x788ea271b650>"
            ]
          },
          "metadata": {},
          "execution_count": 1
        }
      ],
      "source": [
        "# show failure, then fix and re-run\n",
        "import unittest\n",
        "\n",
        "# 1) Run the failing version\n",
        "def title_case_bad(name):\n",
        "    return name.upper()\n",
        "\n",
        "class TestFailing_Run(unittest.TestCase):\n",
        "    def test_title_case(self):\n",
        "        self.assertEqual(title_case_bad('ada lovelace'), 'Ada Lovelace')\n",
        "\n",
        "print('--- Running failing test ---')\n",
        "unittest.main(argv=['first-run'], exit=False)\n",
        "\n",
        "# 2) Fix the function and run a NEW test class\n",
        "def title_case_good(name):\n",
        "    return ' '.join(part.capitalize() for part in name.split())\n",
        "\n",
        "class TestFixed_Run(unittest.TestCase):\n",
        "    def test_title_case(self):\n",
        "        self.assertEqual(title_case_good('ada lovelace'), 'Ada Lovelace')\n",
        "\n",
        "print('\\n--- Running passing test after fix ---')\n",
        "unittest.main(argv=['second-run'], exit=False)\n",
        "unittest.main(argv=['second-run'], exit=False,verbosity=2)  # run tests inside the notebook\n",
        "\n"
      ]
    },
    {
      "cell_type": "markdown",
      "id": "12a51659",
      "metadata": {
        "id": "12a51659"
      },
      "source": [
        "## 7) Organizing tests and a TDD mindset\n",
        "**Keep tests close** to the code they verify.\n",
        " Add tests for each feature/bugfix. A **test‑driven** mindset means you write a failing test first, then implement just enough code to pass it, and finally refactor with safety."
      ]
    },
    {
      "cell_type": "code",
      "execution_count": null,
      "id": "57cb732b",
      "metadata": {
        "id": "57cb732b",
        "colab": {
          "base_uri": "https://localhost:8080/"
        },
        "outputId": "6dc6c0f6-a82d-49ca-d4ac-9b1994a07250"
      },
      "outputs": [
        {
          "output_type": "stream",
          "name": "stderr",
          "text": [
            "test_add (__main__.TestMathUtils_Run.test_add) ... ok\n",
            "\n",
            "----------------------------------------------------------------------\n",
            "Ran 1 test in 0.004s\n",
            "\n",
            "OK\n"
          ]
        },
        {
          "output_type": "execute_result",
          "data": {
            "text/plain": [
              "<unittest.runner.TextTestResult run=1 errors=0 failures=0>"
            ]
          },
          "metadata": {},
          "execution_count": 2
        }
      ],
      "source": [
        "# simulate test discovery by explicitly running a suite\n",
        "import unittest\n",
        "\n",
        "# Self-contained copy for demo\n",
        "def add2(a, b):  # define function add2\n",
        "    return a + b\n",
        "\n",
        "class TestMathUtils_Run(unittest.TestCase):\n",
        "\n",
        "    def test_add(self):  # define function test_add\n",
        "        self.assertEqual(add2(2, 3), 5)\n",
        "\n",
        "suite = unittest.TestLoader().loadTestsFromTestCase(TestMathUtils_Run)\n",
        "runner = unittest.TextTestRunner(verbosity=2)\n",
        "runner.run(suite)"
      ]
    },
    {
      "cell_type": "markdown",
      "id": "218b83df",
      "metadata": {
        "id": "218b83df"
      },
      "source": [
        "---\n",
        "**Wrap-up reminders:**\n",
        "- Name tests with `test_...` and keep them small and focused.\n",
        "- Use common assertions (`assertEqual`, `assertTrue`, `assertIn`, `assertRaises`, …).\n",
        "- Use `setUp()` to prepare fresh objects for each test.\n",
        "- Let failures guide your fixes; then re-run to confirm the pass.\n",
        "- Keep building your suite so future changes don’t break working code."
      ]
    }
  ],
  "metadata": {
    "kernelspec": {
      "display_name": "Python 3",
      "language": "python",
      "name": "python3"
    },
    "language_info": {
      "name": "python",
      "version": "3.11"
    },
    "colab": {
      "provenance": [],
      "include_colab_link": true
    }
  },
  "nbformat": 4,
  "nbformat_minor": 5
}